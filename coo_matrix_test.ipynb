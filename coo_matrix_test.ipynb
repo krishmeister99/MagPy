{
 "cells": [
  {
   "attachments": {},
   "cell_type": "markdown",
   "metadata": {},
   "source": [
    "# Benchmarking different sparse matrix formats\n",
    "In this notebook I am running some time tests for `coo_matrix` and compare it to the `csr_matrix` I am familiar with. The former allows you to pass the matrix elements, along with their row and column indices and generate a sparse matrix. In the latter method, I will make a dense matrix first and then convert it into sparse using `csr_matrix`- I am interested in finding out if there is a large overhead associated with this step."
   ]
  },
  {
   "cell_type": "code",
   "execution_count": 1,
   "metadata": {},
   "outputs": [],
   "source": [
    "import numpy as np\n",
    "from scipy.sparse import csr_matrix\n",
    "from scipy.sparse import coo_matrix\n",
    "from scipy import sparse\n",
    "\n",
    "%matplotlib widget\n",
    "# Timing decorator :\n",
    "import time                                                \n",
    "def timeit(method):\n",
    "    def timed(*args, **kw):\n",
    "        ts = time.time()\n",
    "        result = method(*args, **kw)\n",
    "        te = time.time()\n",
    "        print( '%r (%r, %r) % sec' % \\\n",
    "              (method.__name__, args, kw, te-ts))\n",
    "        return te - ts\n",
    "\n",
    "    return timed"
   ]
  },
  {
   "attachments": {},
   "cell_type": "markdown",
   "metadata": {},
   "source": [
    "### Test matrix\n",
    "Let the test matrix be $M_{ij}$ of shape $(100 , 100)$. The non-zero elements are:\n",
    "$$\\begin{align*} M_{12} &= 1 \\\\ M_{40 , 50} &= 2 \\\\ M_{2 , 7} &= 3 \\\\ M_{81 , 33} &= 4 \\\\ M_{56 , 70} &= 5\\end{align*}$$\n",
    "These elements were chosen randomly."
   ]
  },
  {
   "cell_type": "code",
   "execution_count": 2,
   "metadata": {},
   "outputs": [
    {
     "name": "stdout",
     "output_type": "stream",
     "text": [
      "'make_matrix' ((100,), {}) 2.09808349609375e-05ec\n"
     ]
    }
   ],
   "source": [
    "# Dimensions of test matrix:\n",
    "N = 100\n",
    "@timeit\n",
    "def make_matrix(N):\n",
    "    m =  np.zeros(shape = (N, N))\n",
    "    m[1 , 2] = 1\n",
    "    m[40 , 50] = 2\n",
    "    m[2 , 7] = 3\n",
    "    m[81 , 33] = 4\n",
    "    m[56 , 70] = 5\n",
    "    return m\n",
    "\n",
    "test_matrix = make_matrix(N)"
   ]
  },
  {
   "attachments": {},
   "cell_type": "markdown",
   "metadata": {},
   "source": [
    "Tiime associated with making the numpy matrix is practically negligible.Now let's use `csr_matrix`:"
   ]
  },
  {
   "cell_type": "code",
   "execution_count": 3,
   "metadata": {},
   "outputs": [
    {
     "name": "stdout",
     "output_type": "stream",
     "text": [
      "0.0027570724487304688\n"
     ]
    }
   ],
   "source": [
    "ts = time.time()\n",
    "tm_csr = csr_matrix(test_matrix)\n",
    "te = time.time()\n",
    "print(te - ts)"
   ]
  },
  {
   "attachments": {},
   "cell_type": "markdown",
   "metadata": {},
   "source": [
    "Now let's make the same matrix using `coo_matrix`. Here's how the syntax works: You need to give it three arrays. The first is an array of row indices:\n",
    "$$ \\mathbf{v}_{rows} = (1 , 40 , 2 , 81 , 56)^{T} $$\n",
    "The second is an array of column indices:\n",
    "$$ \\mathbf{v}_{columns} = (2 , 50 , 7 , 33 , 70)^{T} $$\n",
    "The last is an array of matrix elements:\n",
    "$$ \\mathbf{v}_{elements} = (M_{1 , 2} , M_{40  , 50} , M_{81 , 33} , M_{56 , 70})^{T} $$"
   ]
  },
  {
   "cell_type": "code",
   "execution_count": 4,
   "metadata": {},
   "outputs": [
    {
     "name": "stdout",
     "output_type": "stream",
     "text": [
      "0.00019216537475585938\n"
     ]
    }
   ],
   "source": [
    "row_indices = np.array([1 , 40 , 2 , 81 , 56 ])\n",
    "column_indices = np.array([2 , 50 , 7 , 33 , 70 ])\n",
    "element_values = np.array([1, 2 , 3 ,4 , 5])\n",
    "ts = time.time()\n",
    "tm_coo = coo_matrix((element_values , (row_indices , column_indices)) , shape = (N , N))\n",
    "te = time.time()\n",
    "print(te - ts)"
   ]
  },
  {
   "attachments": {},
   "cell_type": "markdown",
   "metadata": {},
   "source": [
    "Looks like it's an order of magnitude smaller! Let's make these two into functions and see what happens when N we make N larger."
   ]
  },
  {
   "cell_type": "code",
   "execution_count": 5,
   "metadata": {},
   "outputs": [
    {
     "name": "stdout",
     "output_type": "stream",
     "text": [
      "'make_matrix_csr' ((10000,), {}) 1.3675687313079834ec\n",
      "'make_matrix_coo' ((10000,), {}) 0.00018310546875ec\n",
      "'make_matrix_csr_but_spicy' ((10000,), {}) 0.001657247543334961ec\n",
      "1.3675687313079834\n",
      "0.00018310546875\n",
      "0.001657247543334961\n"
     ]
    }
   ],
   "source": [
    "@timeit\n",
    "def make_matrix_csr(N):\n",
    "    m =  np.zeros(shape = (N, N))\n",
    "    m[1 , 2] = 1\n",
    "    m[40 , 50] = 2\n",
    "    m[2 , 7] = 3\n",
    "    m[81 , 33] = 4\n",
    "    m[56 , 70] = 5\n",
    "    csr_matrix(m)\n",
    "\n",
    "@timeit\n",
    "def make_matrix_coo(N):\n",
    "    row_indices = np.array([1 , 40 , 2 , 81 , 56 ])\n",
    "    column_indices = np.array([2 , 50 , 7 , 33 , 70 ])\n",
    "    element_values = np.array([1, 2 , 3 ,4 , 5])\n",
    "    coo_matrix((element_values , (row_indices , column_indices)) , shape = (N , N))\n",
    "\n",
    "@timeit\n",
    "def make_matrix_csr_but_spicy(N):\n",
    "    row_indices = np.array([1 , 40 , 2 , 81 , 56 ])\n",
    "    column_indices = np.array([2 , 50 , 7 , 33 , 70 ])\n",
    "    element_values = np.array([1, 2 , 3 ,4 , 5])\n",
    "    csr_matrix((element_values , (row_indices , column_indices)) , shape = (N , N))\n",
    "\n",
    "time_csr = make_matrix_csr(10000)\n",
    "time_coo = make_matrix_coo(10000)\n",
    "time_csr_spicy = make_matrix_csr_but_spicy(10000)\n",
    "print(time_csr)\n",
    "print(time_coo)\n",
    "print(time_csr_spicy)"
   ]
  },
  {
   "attachments": {},
   "cell_type": "markdown",
   "metadata": {},
   "source": [
    "`coo_matrix` seems wayyy faster! Let's also do some benchmarking for the time difference as you increase the size of the matrix. "
   ]
  },
  {
   "cell_type": "code",
   "execution_count": 6,
   "metadata": {},
   "outputs": [
    {
     "name": "stderr",
     "output_type": "stream",
     "text": [
      "  0%|          | 0/5 [00:00<?, ?it/s]"
     ]
    },
    {
     "name": "stdout",
     "output_type": "stream",
     "text": [
      "'make_matrix_csr' ((100,), {}) 0.0018680095672607422ec\n",
      "'make_matrix_coo' ((100,), {}) 0.0001990795135498047ec\n",
      "'make_matrix_csr_but_spicy' ((100,), {}) 0.0004780292510986328ec\n",
      "'make_matrix_csr' ((1000,), {}) 0.013680219650268555ec\n",
      "'make_matrix_coo' ((1000,), {}) 8.869171142578125e-05ec\n",
      "'make_matrix_csr_but_spicy' ((1000,), {}) 0.0003478527069091797ec\n"
     ]
    },
    {
     "name": "stderr",
     "output_type": "stream",
     "text": [
      " 60%|██████    | 3/5 [00:01<00:00,  2.40it/s]"
     ]
    },
    {
     "name": "stdout",
     "output_type": "stream",
     "text": [
      "'make_matrix_csr' ((10000,), {}) 1.2298598289489746ec\n",
      "'make_matrix_coo' ((10000,), {}) 0.00021600723266601562ec\n",
      "'make_matrix_csr_but_spicy' ((10000,), {}) 0.00030803680419921875ec\n"
     ]
    },
    {
     "name": "stderr",
     "output_type": "stream",
     "text": [
      " 80%|████████  | 4/5 [00:08<00:02,  2.51s/it]"
     ]
    },
    {
     "name": "stdout",
     "output_type": "stream",
     "text": [
      "'make_matrix_csr' ((20000,), {}) 6.901252746582031ec\n",
      "'make_matrix_coo' ((20000,), {}) 0.00017309188842773438ec\n",
      "'make_matrix_csr_but_spicy' ((20000,), {}) 0.0002980232238769531ec\n"
     ]
    },
    {
     "name": "stderr",
     "output_type": "stream",
     "text": [
      "100%|██████████| 5/5 [00:22<00:00,  4.57s/it]"
     ]
    },
    {
     "name": "stdout",
     "output_type": "stream",
     "text": [
      "'make_matrix_csr' ((30000,), {}) 14.692556142807007ec\n",
      "'make_matrix_coo' ((30000,), {}) 0.00021195411682128906ec\n",
      "'make_matrix_csr_but_spicy' ((30000,), {}) 0.00028586387634277344ec\n"
     ]
    },
    {
     "name": "stderr",
     "output_type": "stream",
     "text": [
      "\n"
     ]
    }
   ],
   "source": [
    "n_values = np.array([100 , 1000 , 10000 , 20000 , 30000])\n",
    "csr_times = []\n",
    "coo_times = []\n",
    "spicy_times = []\n",
    "from tqdm import tqdm\n",
    "for n in tqdm(n_values):\n",
    "    csr_times.append(make_matrix_csr(n))\n",
    "    coo_times.append(make_matrix_coo(n))\n",
    "    spicy_times.append(make_matrix_csr_but_spicy(n))"
   ]
  },
  {
   "cell_type": "code",
   "execution_count": 7,
   "metadata": {},
   "outputs": [
    {
     "data": {
      "text/plain": [
       "<matplotlib.legend.Legend at 0x7f8d23f4ad30>"
      ]
     },
     "execution_count": 7,
     "metadata": {},
     "output_type": "execute_result"
    },
    {
     "data": {
      "application/vnd.jupyter.widget-view+json": {
       "model_id": "49528d2347244140b750dd77d376ad24",
       "version_major": 2,
       "version_minor": 0
      },
      "image/png": "[encoded data removed]",
      "text/html": [
       "\n",
       "            <div style=\"display: inline-block;\">\n",
       "                <div class=\"jupyter-widgets widget-label\" style=\"text-align: center;\">\n",
       "                    Figure\n",
       "                </div>\n",
       "                <img src='data:image/png;base64,iVBORw0KGgoAAAANSUhEUgAAAoAAAAHgCAYAAAA10dzkAAAAOXRFWHRTb2Z0d2FyZQBNYXRwbG90bGliIHZlcnNpb24zLjUuMSwgaHR0cHM6Ly9tYXRwbG90bGliLm9yZy/YYfK9AAAACXBIWXMAAA9hAAAPYQGoP6dpAABbk0lEQVR4nO3deVhUZf8/8PcwMGwCggiCLCq4g5i4hPuSKLkkWPqUEm71s7QyKnusJzXTqPxatqBPWmppmpngo4UpmYrmvqbihoKgQigoq2wz9+8PYnQEEWGGM8N5v65rLp1zzpzzmcPovLnPue9bIYQQICIiIiLZMJO6ACIiIiKqXwyARERERDLDAEhEREQkMwyARERERDLDAEhEREQkMwyARERERDLDAEhEREQkMwyARERERDLDAEhEREQkMwyARERERDLDAEhEREQkMwyARERERDLDAEhEREQkMwyARERERDLDAEhEREQkMwyARERERDLDAEhEREQkMwyARERERDLDAEhEREQkMwyARERERDLDAEhEREQkMwyARERERDLDAEhEREQkMwyARERERDLDAEhEREQkMwyARERERDLDAEhEREQkMwyARERERDLDAEhEREQkMwyARERERDLDAEhEREQkMwyARERERDLDAEhEREQkMwyARERERDLDAEhEREQkMwyARERERDLDAEhEREQkMwyARERERDLDAEhEREQkMwyARERERDLDAEhEREQkMwyARERERDLDAEhEREQkMwyARERERDLDAEhEREQkMwyARERERDLDAEhEREQkMwyARERERDLDAEhEREQkMwyARERERDLDAEhEREQkMwyARERERDLDAEhEREQkMwyARERERDLDAEhEREQkMwyARERERDJjLnUBpkyj0eD69euws7ODQqGQuhwiIiKqASEE8vLy4O7uDjMzebaFMQDWwfXr1+Hp6Sl1GURERFQLaWlp8PDwkLoMSTAA1oGdnR2A8g+Qvb29xNUQERFRTeTm5sLT01P7PS5HDIB1UHHZ197engGQiIjIxMj59i15XvgmIiIikjEGQCIiIiKZYQAkIiIikhneA2hgQgiUlZVBrVZLXQrVA6VSCXNzc1nfV0JERMaPAdCASkpKkJ6ejsLCQqlLoXpkY2MDNzc3qFQqqUshIiKqEgNgLURHRyM6OrraVj2NRoPk5GQolUq4u7tDpVKxVaiBE0KgpKQEN27cQHJyMlq3bi3bAUaJiMi4KYQQQuoiTFVubi4cHByQk5NTaRiYoqIiJCcnw9vbGzY2NhJVSFIoLCzElStX0LJlS1hZWUldDhER3ae672+5YPOEgbEFSH74MyciImPHbyoiIiIimWEAJNlr0aIFFi9eLHUZRERE9YadQKjBSUlJQcuWLXH8+HF07tz5odsfPnwYtra2hi+MiIjISLAFkAymtLRU6hKqVVJSAgBo2rQpO+oQEZGsMABSJRqNBh9//DF8fX1haWkJLy8vLFiwACUlJZg+fTrc3NxgZWWFFi1aICoqSvs6hUKB//73v3jqqadga2uL+fPnV3ucXbt2QaFQYNu2bXjsscdgbW2NgQMHIjMzE1u3bkX79u1hb2+PZ599Vmcsxd9++w29e/dG48aN0aRJEwwfPhyXLl3Srm/ZsiUA4LHHHoNCoUD//v0BABMmTMCoUaMQFRUFd3d3tGnTBoDuJeBdu3ZBpVJhz5492v0tWrQIzs7OSE9Pr9N5JSKiBxNC4Pr1PCQkXMGKFcfxzjs7MHbsz9iy5bzUpTVIvARcj4QQKCys/1YxGxuLRxqDcNasWVi+fDk+++wz9O7dG+np6Th37hy++OILbN68GT/99BO8vLyQlpaGtLQ0ndfOmTMHUVFR+Oyzz6BUKmt0vLlz5+Krr76CjY0NxowZgzFjxsDS0hJr165Ffn4+QkND8eWXX+Ltt98GABQUFCAyMhL+/v4oKCjA7NmzERoaihMnTsDMzAyHDh1C9+7d8fvvv6Njx446AzLv2LED9vb2iI+PR1UjIPXv3x8zZsxAeHg4Tp48iZSUFLz77rtYt24d3NzcanwOiYioMrVag6tXc5GUlK19XLp0S/tnVd+RrVs7YcSIthJU27AxANajwsJSNGoU9fAN9Sw/fxZsbWs2K0VeXh4+//xzfPXVV4iIiAAA+Pj4oHfv3nj11VfRunVr9O7dGwqFAt7e3pVe/9xzz2HSpEmPVN/8+fPRq1cvAMDkyZMxa9YsXLp0Ca1atQIAPP3009i5c6c2AI4ePVrn9d9++y1cXFyQmJgIPz8/NG3aFADQpEkTNGvWTGdbW1tbfPPNN9XO0jF//nz8/vvvePHFF3HmzBmEh4cjNDT0kd4TEZFclZaqceVKzj0BLxtJSeUh7/LlWygpefAkCkqlAt7ejeHr6wRfX0f4+jqhT5/K3zVUdwyApOPs2bMoLi7GoEGDKq2bMGECBg8ejLZt22Lo0KEYPnw4goODdbbp2rXrIx+zU6dO2r+7urrCxsZGG/4qlh06dEj7/NKlS3jvvfdw4MAB3Lx5ExqNBgCQmpoKPz+/ao/l7+//0CnaVCoV1qxZg06dOsHb25s9hImI7lNUVIbk5FuVWvGSkrKRknIbavWD55iwsDBDq1aO/4Q83Ye3twMsLGp29YjqhgGwHtnYWCA/f5Ykx60pa2vrB67r0qULkpOTsXXrVvz+++8YM2YMnnjiCfz888/abWrTm9bC4m59CoVC53nFsoqQBwAjRoyAp6cnli9fDnd3d2g0Gvj5+Wk7dVSnpvXt27cPAJCdnY3s7Gz2EiYi2SkoKLnn8mzFJdvy52lpOahuHjFra3P4+DjptORVPDw87KFUsguC1BgA65FCoajxpViptG7dGtbW1tixYwemTJlSab29vT3Gjh2LsWPH4umnn8bQoUORnZ0NJyeneqkvKysLZ8+exddff40+ffoAAPbu3auzTUULX3VzNVfn0qVLeP3117F8+XL89NNPeP7557Fjxw7O8EFEDU5OTlGVrXhJSdlIT8+v9rV2dqoqW/F8fZ3g5tboke49p/on+wAYGhqKXbt2YdCgQTotWXJlZWWFt99+GzNnzoRKpUKvXr1w48YNnDlzBrm5uXBzc0Pnzp1hZmaGDRs2oFmzZmjcuHG91efo6IgmTZpg2bJlcHNzQ2pqKv7973/rbOPi4gJra2v89ttv8PDwgJWVFRwcHGq0f7VajfDwcAQHB2PixIkICQmBv78/Fi1ahLfeessQb4mIyGCEEMjKulPl/XhJSdm4ebOw2tc7OVnfE+zutuT5+DihaVMbhjwTJvsA+Oqrr2LSpEn47rvvpC7FaLz33nswNzfH7Nmzcf36dbi5uWHq1KlwdnbGxx9/jIsXL0KpVKJbt26Ii4ur15YxMzMz/Pjjj3j11Vfh5+eHtm3b4osvvtAO9QIA5ubm+OKLLzBv3jzMnj0bffr0wa5du2q0/wULFiAlJQVbtmwBADRr1gzffPMNxowZg8GDB9doYGkiovokhEBGRn6VrXhJSdnIySmu9vWurraVWvB8fBzh4+MEJ6cH3xZEpk0hqhoLQ2Z27dqFr7766pFbAHNzc+Hg4ICcnBzY29vrrCsqKkJycjJatmwJKysrfZZLRo4/eyLSN41G4OrV3HvuxbvbknfpUjYKCqofYszDw77KVjwfH0fY2VnW07swHtV9f8uFSbcAJiQkYOHChTh69CjS09MRGxuLUaNG6WyzZMkSLFy4EOnp6ejYsSMWL16svXeMiIjIWJSVaZCamlOpBa9i+JTi4gff12xmpoC3t0OlVjxfXye0auUIa+uadwYkeTDpAFhQUICAgABMnDix0thwALB+/XrMmDEDS5YsQa9evfD1118jJCQEiYmJ8PLykqBieZk6dSrWrFlT5brx48fjv//9bz1XREQkreLiMqSk3L4v4N3SDp9SVqZ54GvNze8dPsXxnl62TmjRojFUKg6fQjVn0gEwJCQEISEhD1z/6aefYvLkydrerIsXL8a2bduwdOlSnSnMaqq4uBjFxXfvpcjNzX30omVk3rx5ePPNN6tcJ9cmdyJq+AoLS3H5cuV78ZKSspGaWv3wKVZW5tqWu4o/Kx6eng4wN+doBKQfJh0Aq1NSUoKjR49W6iEaHBysHePtUUVFReH999/XR3my4OLiAhcXF6nLICLSu9zc4vvux7vbknf9el61r23USFXpMm3Fw93dDmZm7FlLhtdgA+DNmzehVqvh6uqqs9zV1RUZGRna50OGDMGxY8dQUFAADw8PxMbGolu3blXuc9asWYiMjNQ+z83Nhaenp2HeABERSSo7+06VrXhJSdm4caP64VMaN7ZC69ZO/1ym1Q15Li62HD6FJNdgA2CF+/+RCSF0lm3btq3G+7K0tISlpfx6SxERNURCCGRmFlTZinfpUjZu3Sqq9vUuLrZVtuL5+nL4FDJ+DTYAOjs7Q6lU6rT2AUBmZmalVsFHFR0djejo6FrPNEFERPVDoxG4fj2vyla8S5duIT+/+ikkmze3q7IVz8fHCfb2bBAg09VgA6BKpUJgYCDi4+MRGhqqXR4fH4+nnnqqTvueNm0apk2bph1HiIiIpFNWpkFa2v3Dp9zCpUvlIa+oqOyBr1UoAG/vxlW24rVq5fhIc6kTmRKTDoD5+flISkrSPk9OTsaJEyfg5OQELy8vREZGIjw8HF27dkVQUBCWLVuG1NRUTJ06VcKqiYjoUZWUqKsYPqU84CUn30JpafXDp7Ro0bjSQMgVw6dYWpr0VyFRrZj0p/7IkSMYMGCA9nlFB42IiAisWrUKY8eORVZWFubNm4f09HT4+fkhLi4O3t7edTouLwE3bP3790fnzp2xePFiqUshkpU7d6oaPqW8Je/KlRxoNA8eP8XSUnnPGHm6Dy8vDp9CdD9OBVcHnArOdCgUiipniqlKdnY2LCwsYGdnV6tj8WdP9GB5ecWV5quteH71avVjq9rYWNwT7HTDXvPm9hw+hWqMU8GZeAsgkT6VlpbCwsICTk5OUpdCZNJu3bpTZcBLSsrG338XVPtaBwfLKlvxfHwc0axZIw6fQqQnbBOnSjQaDT7++GP4+vrC0tISXl5eWLBgAQDg1KlTGDhwIKytrdGkSRO8+OKLyM/P13ntvHnz4OHhAUtLS3Tu3Bm//fZbjY6bkpIChUKBn376CX369IG1tTW6deuGCxcu4PDhw+jatSsaNWqEoUOH4saNG9rXHT58GIMHD4azszMcHBzQr18/HDt2TLu+RYsWAIDQ0FAoFArt87lz56Jz585YsWIFWrVqBUtLSwgh0L9/f8yYMQMAcO7cOdjY2GDt2rXa/cXExMDKygqnTp2qzeklajCEEDhy5Do++GA3xo2LQY8e36BJk0/g5PQJunf/Bs89F4PZs3fhu+9O4s8/07Thz9nZBo8/7oHx4zth7tx+WLMmFAcOTMaNG2/h1q23ceTIi/jxx6cxf/5ATJjQGb17e8HNzY7hj0iP2AJYC7W+B1AIoLD6wUMNwsamvKtbDc2aNQvLly/HZ599ht69eyM9PR3nzp1DYWEhhg4discffxyHDx9GZmYmpkyZgunTp2PVqlUAgM8//xyLFi3C119/jcceewwrVqzAyJEjcebMGbRu3bpGx58zZw4WL14MLy8vTJo0Cc8++yzs7e3x+eefw8bGBmPGjMHs2bOxdOlSAEBeXh4iIiLwxRdfAAAWLVqEJ598EhcvXoSdnR0OHz4MFxcXrFy5EkOHDoVSeXe+zKSkJPz000/YuHGjzvIK7dq1w//93//h5ZdfRq9evWBhYYEXXngBH330Efz9/Wt8TokaCrVagz//TENMzFnExp5DampOldu5uTWqshXPx8cJjRvz1ggiyQmqtZycHAFA5OTkVFp3584dkZiYKO7cuXN3YX6+EOUxsH4f+fk1fk+5ubnC0tJSLF++vNK6ZcuWCUdHR5F/z/5+/fVXYWZmJjIyMoQQQri7u4sFCxbovK5bt27i5Zdffuixk5OTBQDxzTffaJetW7dOABA7duzQLouKihJt27Z94H7KysqEnZ2d2LJli3YZABEbG6uz3Zw5c4SFhYXIzMzUWd6vXz/x2muv6SwbNmyY6NOnjxg0aJAYPHiw0Gg0Dzx+lT97IhNWVFQq4uIuiBde2CyaNv1EAHO1DxubBWL06PXik0/2io0bE8XJkxkiP79Y6pKJqlXd97dcsAWQdJw9exbFxcUYNGhQlesCAgJga2urXdarVy9oNBqcP38e1tbWuH79Onr16qXzul69euHkyZM1rqFTp07av1cM2n1va5urqysyMzO1zzMzMzF79mz88ccf+Pvvv6FWq1FYWIjU1NSHHsvb2xtNmzZ96HYrVqxAmzZtYGZmhtOnT/NSFDV4BQUl+O23JMTEnMMvv1xAbm6xdp2joxVGjmyL0NB2CA72gbU1x8ojMjUMgPXJxga45365ej1uDVlbP3j6InHfNHr3unf5w6bfexgLi7tfJhWvu3+ZRnN3zK8JEybgxo0bWLx4Mby9vWFpaYmgoCCUlFQ/wj8AnTBbnZMnT6KgoABmZmbIyMiAu7t7Td8Okcm4desOfvnlAmJizuG335J0BlBu1qwRQkPbISysPfr184aFReVbJojIdDAA1kKt7wFUKIAaBg6ptG7dGtbW1tixYwemTJmis65Dhw747rvvUFBQoA1Of/75J8zMzNCmTRvY29vD3d0de/fuRd++fbWv27dvH7p3726wmvfs2YMlS5bgySefBACkpaXh5s2bOttYWFjUetzG7OxsTJgwAe+++y4yMjIwbtw4HDt2rNqwTGQqMjLysWnTOcTEnMXOnSkoK7v7y1XLlo0RFtYeYWHt8fjjHhxmhagBYQCshYY8FZyVlRXefvttzJw5EyqVCr169cKNGzdw5swZjBs3DnPmzEFERATmzp2LGzdu4JVXXkF4eLj2Uu1bb72FOXPmwMfHB507d8bKlStx4sQJ/PDDDwar2dfXF6tXr0bXrl2Rm5uLt956q1I4a9GiBXbs2IFevXrB0tISjo6ONd7/1KlT4enpif/85z8oKSlBly5d8OabbyI6Olrfb4WoXiQn30JsbHno27cvDfeOBuvn54KwsPKWvk6dXHm7A1EDxQBIlbz33nswNzfH7Nmzcf36dbi5uWHq1KmwsbHBtm3b8Nprr6Fbt26wsbHB6NGj8emnn2pf++qrryI3NxdvvPEGMjMz0aFDB2zevLnGPYBrY8WKFXjxxRfx2GOPwcvLCx9++CHefPNNnW0WLVqEyMhILF++HM2bN0dKSkqN9v39998jLi4Ox48fh7m5OczNzfHDDz+gZ8+eGDZsmLbVkciYCSGQmHhD23P3+PEMnfXduzdHWFg7hIa2R5s2TSSqkojqE2cCqQPOBEJV4c+ejIH4Z4y+mJiziIk5hwsXsrTrzMwU6NfPG2Fh7TFqVDt4eMhzJgSSL84EwhZAIqIGo6xMg717UxEbW97Sl5Z2d2o1lUqJwYNbISysPUaObAtn55p3DiOihocBkOrNhx9+iA8//LDKdX369MHWrVvruSIi01dcXIYdO5IRE3MW//vfedy8eXeweVtbCwwb1gZhYe0QEtIa9vaWElZKRMaEAbAWat0LWOamTp2KMWPGVLmOPWqJai4/v2KMvrP45ZcLyMu7O+SRk5M1Ro5si7CwdnjiiVYco4+IqsQAWAsNuRewITk5OcHJyUnqMohMUnb2HWzZch4xMeewffslnTH63N3tMGpUW4SFtUffvhyjj4gejgGQiMhIpafn/TNG3zns3JkMtfpunz0fH0ftGH3duzfnGH1E9EgYAImIjMjly7e0w7Xs3687Rl+nTq7a2Tj8/V04Rh8R1RoDIBGRhIQQOHPmxj/DtZzFyZN/66x//HEP7Rh9vr68hYKI9IMBkIionmk0AocPX9POxnHxYrZ2nVKpQL9+LRAW1g6jRrVD8+byHKOMiAyLAbAW2AuYiB5VWZkGe/Zc0V7evXYtT7vO0lKJ4GAfhIW1x4gRbdCkCcfoIyLDYgCsBfYCfrD+/fujc+fOWLx4sdSlEEmuqKgMO3Zc1o7Rl5V1R7uuUSMVhg1rjbCw9ggJ8YWdHcfoI6L6wwBIehUTEwMLC8OOO5abm4uPP/4YGzduREpKCho3bgw/Pz+8/PLLCA0NhUKhwOXLl/Huu+9i9+7dyM7OhrOzMwIDA7Fw4UK0adMGAHRuoLe1tYWPjw9ef/11TJgwwaD1U8OWl1eMrVvLx+j79deLyM+/O0ZfkybWeOqp8uFaBg1qBSsr/hdMRNLg/z6kV4Ye5+/27dvo3bs3cnJyMH/+fHTr1g3m5ubYvXs3Zs6ciYEDB8LGxgaDBw9Gu3btEBMTAzc3N1y9ehVxcXHIycnR2d/KlSsxdOhQFBQUYP369Zg4cSLc3NwwZMgQg74PaliysgqxZcsFxMScxfbtl1BcfPf2kObN7bQ9d/v08Ya5uZmElRIR/UNQreXk5AgAIicnp9K6O3fuiMTERHHnzh0JKqu9DRs2CD8/P2FlZSWcnJzEoEGDRH5+vhBCiIiICPHUU0+JuXPniqZNmwo7Ozvx4osviuLiYu3r+/XrJ1577TXt86KiIvHWW28JDw8PoVKphK+vr/jmm2+ERqMRPj4+YuHChTrHP3XqlFAoFCIpKanK+l566SVha2srrl27VmldXl6eKC0tFcePHxcAREpKSrXvFYCIjY3VWebk5CQiIyOrfd3DmOrPnh7N1as54quvDoqBA78TSuX7Apirffj6fiFmztwuDhxIE2q1RupSieg+1X1/ywVbAOuREAKFpYUP31DPbCxsajReWHp6Op599ll88sknCA0NRV5eHvbs2QNxz0BkO3bsgJWVFXbu3ImUlBRMnDgRzs7OWLBgQZX7fP7557F//3588cUXCAgIQHJyMm7evAmFQoFJkyZh5cqVePPNN7Xbr1ixAn369IGPj0+lfWk0Gvz4448YN24c3N3dK61v1KgRAKBp06YwMzPDzz//jBkzZkCpfPisCGq1Ghs3bkR2drbBL2GT6UpKykZs7FnExJzDgQNXddYFBLhqB2bu2LEpx+gjIqPGAFiPCksL0SiqUb0fN39WPmxVtg/dLj09HWVlZQgLC4O3tzcAwN/fX2cblUqFFStWwMbGBh07dsS8efPw1ltv4YMPPoCZme6lrQsXLuCnn35CfHw8nnjiCQBAq1attOsnTpyI2bNn49ChQ+jevTtKS0uxZs0aLFy4sMr6bt68iVu3bqFdu3bVvo/mzZvjiy++wMyZM/H++++ja9euGDBgAMaNG6dzfAB49tlnoVQqUVRUBLVaDScnJ0yZMuWh54rkQQiBU6cytaHvr790x+gLCvJAWFh7hIa2g48Px+gjItPBAEhaAQEBGDRoEPz9/TFkyBAEBwfj6aefhqOjo842NjZ3h6gICgpCfn4+0tLStKGxwokTJ6BUKtGvX78qj+fm5oZhw4ZhxYoV6N69O3755RcUFRXhmWeeqXL7ipbImrSsTJs2Dc8//zx27tyJgwcPYsOGDfjwww+xefNmDB48WLvdZ599hieeeAJpaWmIjIzE66+/Dl9f34funxoujUbg0KFr2oGZL126pV2nVCowYEBLhIW1w1NPtYO7u52ElRIR1R4DYC3UdhxAGwsb5M/KN1BV1R+3JpRKJeLj47Fv3z5s374dX375Jd59910cPHgQLVu2rPa1VYUya2vrhx5zypQpCA8Px2effYaVK1di7NixOgHzXk2bNoWjoyPOnj1bo/djZ2eHkSNHYuTIkZg/fz6GDBmC+fPn6wTAZs2awdfXF76+vtiwYQMee+wxdO3aFR06dKjRMahhKCvTICHh7hh916/fHaPPysr8nzH62mHEiLZwcnr455qIyNgxANZCbccBVCgUNboUKyWFQoFevXqhV69emD17Nry9vREbG4vIyEgAwMmTJ3Hnzh1tuDtw4AAaNWoEDw+PSvvy9/eHRqPB7t27tZeA7/fkk0/C1tYWS5cuxdatW5GQkPDA2szMzDB27FisXr0ac+bMqXQfYEFBASwtLWFuXvljrVAo0K5dO+zbt++B+/f19cXo0aMxa9Ys/O9//3vgdtQwFBWVIT7+EmJizmHz5vPIzr47Rp+dnQrDh7dBWFh7DB3qi0aNVBJWSkSkfwyApHXw4EHs2LEDwcHBcHFxwcGDB3Hjxg20b99eu01JSQkmT56M//znP7hy5QrmzJmD6dOnV7r/DwBatGiBiIgITJo0SdsJ5MqVK8jMzMSYMWMAlLc6TpgwAbNmzYKvry+CgoKqrfHDDz/Erl270KNHDyxYsABdu3aFhYUF9uzZg6ioKBw+fBgpKSmYM2cOwsPD0aFDB6hUKuzevRsrVqzA22+/Xe3+33jjDQQEBODIkSPo2rVrLc4iGbO8vGLExV1ETMw5xMXpjtHn7Gxzzxh9LWFpyf8eiajh4v9wpGVvb4+EhAQsXrwYubm58Pb2xqJFixASEqLdZtCgQWjdujX69u2L4uJi/Otf/8LcuXMfuM+lS5finXfewcsvv4ysrCx4eXnhnXfe0dlm8uTJ+PDDDzFp0qSH1ujo6IgDBw7go48+wvz583HlyhU4OjrC398fCxcuhIODAzw8PNCiRQu8//77SElJgUKh0D5//fXXq92/v78/nnjiCcyePRtxcXEPrYeM382bhdi8+TxiYs4iPv4ySkru3rrh4WGPsLB2CA1tj969vThGHxHJhkLcO8YHPZKKS8A5OTmwt9edsL2oqAjJyclo2bIlrKysJKpQvyZMmIDbt29j06ZNet3vn3/+if79++Pq1atwdXXV676l0BB/9qbm6tVcbNp0DjExZ7F79xVoNHf/m2vd2gmjR5cP19K1qzuHayGSoeq+v+WCLYAkmeLiYqSlpeG9997DmDFjGkT4I+lcvJil7cRx8OA1nXWPPdZMOxtHhw4co4+IiAGQJLNu3TpMnjwZnTt3xurVq6Uuh0yMEAJ//fX3P8O1nMPp05nadQoF0LOnp3aMvpYtHavZExGR/PAScB3I7RIw1Qx/9oaj0QgcPHhVG/ouX747Rp+5uRkGDGiBsLD2eOqptnBz4xh9RFQ1XgJmCyARGbnSUjV27y4fo2/TpnNIT787lqaVlTmGDvVFWFg7DB/eBo6OHKOPiKgmGACJyOjcuVOK+PjLiIk5i82bz+PWrSLtOnt7y3/G6GuHoUN9YWvLMfqIiB4VA6CB8Qq7/PBnXju5ucX49dcLiIk5h61bL6KgoFS7rmlTG4wa1Q6hoe0wcCDH6CMiqiv+L1oLNZkKzsLCAgBQWFhYoynRqOEoLCwEcPczQA9240bBP2P0ncPvv+uO0efpaY+wsPLhWnr18oRSyTH6iIj0hZ1A6uBhN5Gmp6fj9u3bcHFxgY2NDYeeaOCEECgsLERmZiYaN24MNzc3qUsySmlpOYiNPYfY2HNISNAdo69t2yba0BcY6MZ/M0RkEOwEwhZAg2rWrBkAIDMz8yFbUkPSuHFj7c+eyl24kPVPz92zOHz4us66Ll3cEBZWPkZf+/ZNJaqQiEheGAANSKFQwM3NDS4uLigtLX34C8jkWVhYQKlUSl2G5IQQOHEiA7Gx5bNxnDlzQ7tOoQB69fLSTsHWokVj6QolIpIpBsB6oFQqGQqowdNoBPbvT9OO0ZeSclu7ztzcDIMGtdSO0efq2ki6QomIiAGQiGqvtFSNXbtS/hmj7zwyMu6O0WdtXTFGX3sMG9aaY/QRERkRBkAieiSFhaXYvv0SYmLOYsuWC7h9++4YfQ4Olhgxoi3CwtphyBBf2NiwJzQRkTFiACSih8rJKcKvv15ETMxZbN2ahMLCu/e0urjYYtSotggLa48BA1pCpeLtDkRExo4BkIiqlJlZgP/9r3y4lt9/v4zSUo12nbe3A8LC2iM0tB169uQYfUREpoYBkIi0UlNzEBtb3olj795UnTH62rd31o7R99hjzThGHxGRCWMAJJK5c+duakPfkSO6Y/R17eqO0NDyKdg4Rh8RUcPBAEgkM0IIHD+eoR2Y+ezZm9p1CgXQp483wsLaYdSodvD2bixdoUREZDAMgEQyceTIdaxdewoxMWdx5UqOdrmFhRkGDWqFsLB2GDmSY/QREcmB7APgL7/8gjfeeAMajQZvv/02pkyZInVJRHr3+ecHMGPGNu1zGxsLhITcHaPPwcFKwuqIiKi+yToAlpWVITIyEjt37oS9vT26dOmCsLAwODk5SV0akV4IITB37i7Mm5cAAAgNbYfnnw9AcLAPx+gjIpIxWY/dcOjQIXTs2BHNmzeHnZ0dnnzySWzbtu3hLyQyARqNwKuvbtWGv3nz+mPjxjEYNaodwx8RkcyZdABMSEjAiBEj4O7uDoVCgU2bNlXaZsmSJWjZsiWsrKwQGBiIPXv2aNddv34dzZs31z738PDAtWvX6qN0IoMqLVUjPDwWX311GAoF8NVXIXjvvX4cuoWIiACYeAAsKChAQEAAvvrqqyrXr1+/HjNmzMC7776L48ePo0+fPggJCUFqaiqA8stj9+MXJJm6wsJShIaux9q1p2BuboYffgjDtGndpS6LiIiMiEnfAxgSEoKQkJAHrv/0008xefJkbceOxYsXY9u2bVi6dCmioqLQvHlznRa/q1evokePHgavm8hQbt8uwogR67B3byqsrMyxceMYPPlka6nLIiIiI2PSLYDVKSkpwdGjRxEcHKyzPDg4GPv27QMAdO/eHadPn8a1a9eQl5eHuLg4DBky5IH7LC4uRm5urs6DyFj8/Xc++vdfhb17U+HgYIn4+HCGPyIiqpJJtwBW5+bNm1Cr1XB1ddVZ7urqioyMDACAubk5Fi1ahAEDBkCj0WDmzJlo0qTJA/cZFRWF999/36B1E9VGSsptDB68GklJ2XB1tcVvv41H587NpC6LiIiMVIMNgBXuv6dPCKGzbOTIkRg5cmSN9jVr1ixERkZqn+fm5sLT01M/hRLVUmLiDQwevBrXr+ehRYvGiI8Ph68vhzIiIqIHa7AB0NnZGUqlUtvaVyEzM7NSq2BNWVpawtLSEtHR0YiOjoZardZHqUS1dujQNYSE/IDs7Dvo0KEptm8fj+bN7aUui4iIjFyDvQdQpVIhMDAQ8fHxOsvj4+PRs2fPOu172rRpSExMxOHDh+u0H6K6+P33yxg48DtkZ99B9+7NkZAwgeGPiIhqxKRbAPPz85GUlKR9npycjBMnTsDJyQleXl6IjIxEeHg4unbtiqCgICxbtgypqamYOnWqhFUT1V1MzFk8++xGlJSo8cQTrRAbOxaNGqmkLouIiEyESQfAI0eOYMCAAdrnFffnRUREYNWqVRg7diyysrIwb948pKenw8/PD3FxcfD29paqZKI6+/bbY3jxxV+g0QiMHt0eP/wQBktLk/6nTERE9UwhqhoNmap17z2AFy5cQE5ODuzteemNDG/hwj8xc+bvAIDJkx/D118Ph1LZYO/kICIyiNzcXDg4OMj6+5sBsA74AaL6IoTAO+/swEcf/QkAmDmzJz766AnOXENEVAv8/jbxS8BEcqBWa/DSS79i+fJjAICPP34CM2f2krgqIiIyZQyAREasuLgM4eGx2LAhEWZmCnz99XBMmdJF6rKIiMjEMQDWAscBpPqQn1+CsLD1iI+/DAsLM6xdOxpPP91B6rKIiKgB4D2AdcB7CMhQsrPvYNiwtThw4CpsbS0QGzsWgwf7SF0WEVGDwO9vtgASGZ3r1/MwZMganD6dCUdHK8TFjcPjj3tIXRYRETUgDIBERiQpKRuDB69GSsptuLvbYfv28ejY0UXqsoiIqIHhAGK1EB0djQ4dOqBbt25Sl0INyF9//Y3evVcgJeU2fHwcsXfvRIY/IiIyCN4DWAe8h4D05c8/UzFs2Frk5BSjUydXbNs2Hs2aNZK6LCKiBonf32wBJJLc1q0XMXjwauTkFKNXL0/s3j2B4Y+IiAyKAZBIQuvWncLIkT/izp0yhIT4Yvv2cDRubCV1WURE1MAxABJJZOnSwxg3LgZlZRo8+6wfNm36F2xsLKQui4iIZIABsBbYCYTqQgiBBQsS8PLLcRACePnlrlizJgwqlVLq0oiISCbYCaQOeBMpPSqNRuDNN7fjs88OAADee68v3n+/PxQKhbSFERHJCL+/OQ4gUb0pK9NgypTN+O67kwCAzz4bghkzHpe4KiIikiMGQKJ6UFRUhn/962f873/noVQqsGLFU3j++QCpyyIiIpliACQysNzcYowa9SN27kyBpaUSP/30DEaObCt1WUREJGMMgEQGdONGAUJCfsDRo+mws1Nh8+Zn0b9/C6nLIiIimWMv4FpgL2CqibS0HPTpsxJHj6bD2dkGO3dGMPwREZFRYC/gOmAvInqQ8+dvYvDg1UhLy4Wnpz22bw9Hu3bOUpdFRETg9zfAS8BEenfsWDqGDFmDmzcL0bZtE2zfHg4vLwepyyIiItJiACTSo127UjBy5Drk5ZUgMNANW7eOQ9OmtlKXRUREpIP3ABLpyebN5zF06Brk5ZWgf/8W+OOPCIY/IiIySgyARHrw/fcnERa2HsXFaowc2RZbt46Dvb2l1GURERFViQGQqI4+//wAIiI2Qa0WiIgIwMaNY2BlxbsriIjIeDEAEtWSEAKzZ+/EjBnbAACvv/44Vqx4Cubm/GdFRETGjd9UtcBxAEmjEXjlla344IMEAMD8+QOwaFEwzMwUEldGRET0cBwHsA44jpA8lZaqERGxCevWnYZCAURHP4mXXuIvA0REpoLf3xwGhuiRFBaW4plnNiAu7iLMzc3w/fej8Oyz/lKXRURE9EgYAIlq6PbtIowYsQ5796bC2tocGzeOQUhIa6nLIiIiemQMgEQ1kJGRj6FD1+Dkyb/h4GCJX399Dr16eUldFhERUa0wABI9RHLyLQwevBqXLt2Cq6sttm0bj4CAZlKXRUREVGsMgETVOHMmE8HBa3D9eh5atGiM+Phw+Po6SV0WERFRnTAAEj3AwYNX8eSTa5GdfQcdOzbF9u3hcHe3k7osIiKiOuM4gERViI+/hEGDvkd29h08/rgHEhImMvwREVGDwQBIdJ+ff07EsGFrUVBQisGDWyE+PhxOTtZSl0VERKQ3DIBE9/jmm2MYO/ZnlJZq8MwzHbBly7No1EgldVlERER6xQBI9I9PPvkTL7ywBRqNwAsvdMG6daNhacnbZImIqOFhAKwFzgXcsAgh8Pbb8Xj77d8BAP/+dy98/fVwKJX850FERA0T5wKuA84laPrUag2mTv0F33xzHADwySdP4K23eklcFRERGRK/vzkMDMlYcXEZxo+Pxc8/J8LMTIFly4Zj8uQuUpdFRERkcAyAJEv5+SUIC1uP+PjLUKmUWLduNMLC2ktdFhERUb1gACTZycoqxLBha3Hw4DXY2lpg06Z/4YknWkldFhERUb1hACRZuXYtF8HBa5CYeANOTtaIi3sOPXp4SF0WERFRvWIAJNlISsrG4MGrkZJyG+7udti+fTw6dnSRuiwiIqJ6xwBIsnDyZAaGDFmDv/8ugK+vE+Ljw9GiRWOpyyIiIpIEAyA1eHv3pmL48LXIySlG587N8Ntv4+Dq2kjqsoiIiCTDkW6pQYuLu4jg4NXIySlG795e2LkzguGPiIhkjwGQGqx1607hqad+xJ07ZRg2rDW2bRuPxo2tpC6LiIhIcgyA1CAtWXIY48bFoKxMg+ee80ds7FjY2FhIXRYREZFRYACkBkUIgQ8+2I1p0+IgBDB9ejesXh0KCwul1KUREREZDdkHwNDQUDg6OuLpp5+WuhSqI41G4PXXt2H27F0AgNmz++KLL0JgZqaQtjAiIiIjI/sA+Oqrr+L777+Xugyqo7IyDSZO/B8+//wgAODzz4fi/fcHQKFg+CMiIrqf7APggAEDYGdnJ3UZVAdFRWUYPfonfP/9SSiVCnz//Si8+moPqcsiIiIyWkYdABMSEjBixAi4u7tDoVBg06ZNlbZZsmQJWrZsCSsrKwQGBmLPnj31XyhJJje3GCEhP2Dz5vOwtFQiNnYswsMDpC6LiIjIqBn1QNAFBQUICAjAxIkTMXr06Err169fjxkzZmDJkiXo1asXvv76a4SEhCAxMRFeXl4AgMDAQBQXF1d67fbt2+Hu7m7w90CGc+NGAUJCfsDRo+mws1Nhy5Zn0a9fC6nLIiIiMnpGHQBDQkIQEhLywPWffvopJk+ejClTpgAAFi9ejG3btmHp0qWIiooCABw9elRv9RQXF+uEydzcXL3tmx5NamoOgoNX4/z5LDRtaoPffhuPLl3cpC6LiIjIJBj1JeDqlJSU4OjRowgODtZZHhwcjH379hnkmFFRUXBwcNA+PD09DXIcqt65czfRq9cKnD+fBS8vB+zdO4nhj4iI6BGYbAC8efMm1Go1XF1ddZa7uroiIyOjxvsZMmQInnnmGcTFxcHDwwOHDx9+4LazZs1CTk6O9pGWllbr+ql2jh69jj59VuLq1Vy0a+eMvXsnok2bJlKXRUREZFKM+hJwTdw/zIcQ4pGG/ti2bVuNt7W0tISlpWWNtyf92rUrBSNHrkNeXgm6dnXH1q3j4OxsI3VZREREJsdkWwCdnZ2hVCortfZlZmZWahXUt+joaHTo0AHdunUz6HHorv/97xyGDl2DvLwSDBjQAn/88TzDHxERUS2ZbABUqVQIDAxEfHy8zvL4+Hj07NnToMeeNm0aEhMTq71cTPrz3XcnMHr0TyguVmPUqHaIixsHOzu2xBIREdWWUV8Czs/PR1JSkvZ5cnIyTpw4AScnJ3h5eSEyMhLh4eHo2rUrgoKCsGzZMqSmpmLq1KkSVk36tHjxAbz+evll+gkTOmP58hEwNzfZ31uIiIiMglEHwCNHjmDAgAHa55GRkQCAiIgIrFq1CmPHjkVWVhbmzZuH9PR0+Pn5IS4uDt7e3gatKzo6GtHR0VCr1QY9jpwJITB79k7Mn18+sHdk5ONYuDCY8/oSERHpgUIIIaQuwlTl5ubCwcEBOTk5sLe3l7qcBkOjEZg+PQ5Llx4BACxYMBCzZvXmvL5ERKQX/P428hZAkp+SEjUiIjbhxx9PQ6EAliwZhqlTu0pdFhERUYPCAEhGo7CwFE8//RO2bk2CubkZ1qwJxdixflKXRURE1OAwANYC7wHUv9u3izB8+Fr8+WcarK3NERMzFkOH+kpdFhERUYPEewDrgPcQ6EdGRj6GDFmDv/76G40bW+HXX59Dz56cZo+IiAyD399sASSJJSffwuDBq3Hp0i00a9YI27aNR6dOhh3Im4iISO4YAEkyp09nIjh4NdLT89GyZWPEx4fDx8dJ6rKIiIgaPI6oWwucCq7uDhy4ir59VyI9PR9+fi7Yu3cSwx8REVE9Mcg9gJcuXcLKlStx6dIlfP7553BxccFvv/0GT09PdOzYUd+HkwzvIaid+PhLGDVqPQoLSxEU5IFffnkOTk7WUpdFREQywe9vA7QA7t69G/7+/jh48CBiYmKQn58PAPjrr78wZ84cfR+OTMzPPydi2LC1KCwsRXCwD+Ljwxn+iIiI6pneA+C///1vzJ8/H/Hx8VCpVNrlAwYMwP79+/V9ODIhy5cfxdixP6O0VIMxYzpiy5ZnYWurevgLiYiISK/0HgBPnTqF0NDQSsubNm2KrKwsfR+OTMTHH+/Fiy/+Ao1G4P/9v0CsXRsGlUopdVlERESypPcA2LhxY6Snp1dafvz4cTRv3lzfh5MEO4HUnBACM2fG49//3gEAeOed3li6dBiUSvY/IiIikorev4Wfe+45vP3228jIyIBCoYBGo8Gff/6JN998E88//7y+DyeJadOmITExEYcPH5a6FKOmVmvwwgtbsHDhPgDA//3fYCxYMAgKhULiyoiIiORN7wFwwYIF8PLyQvPmzZGfn48OHTqgb9++6NmzJ/7zn//o+3BkpIqLyzB27M/49tvjMDNT4NtvR+KNN3pKXRYRERHBgFPBXbp0CcePH4dGo8Fjjz2G1q1bG+IwkmI38qrl55cgNHQ9fv/9MlQqJX78cTRCQ9tLXRYREREAfn8DBpwJxMfHBz4+PobaPRmprKxCPPnkWhw6dA2NGqmwadNYDBrUSuqyiIiI6B56D4BCCPz888/YuXMnMjMzodFodNbHxMTo+5BkJK5dy0Vw8BokJt5AkybW2Lp1HLp1axgdf4iIiBoSvQfA1157DcuWLcOAAQPg6urKG/5l4uLFLAwevBpXruSgeXM7bN8ejg4dmkpdFhEREVVB7wFwzZo1iImJwZNPPqnvXRuN6OhoREdHQ61WS12KUThxIgNDhqxBZmYBWrd2Qnx8OLy9G0tdFhERET2A3nsBOzg4oFWrhn3PF4eBuWvPnivo338VMjML0LlzM+zdO4nhj4iIyMjpPQDOnTsX77//Pu7cuaPvXZOR+fXXCwgOXoOcnGL06eOFXbsi4OJiK3VZRERE9BB6vwT8zDPPYN26dXBxcUGLFi1gYWGhs/7YsWP6PiRJYO3aU4iI2ISyMg2GD2+Dn356GtbWFg9/IREREUlO7wFwwoQJOHr0KMaPH89OIA1UdPQhvPLKVggBjB/fCStWjISFBef1JSIiMhV6D4C//vortm3bht69e+t71yQxIQQ++CABc+bsAgC88kp3LF48FGZmDPlERESmRO8B0NPTU7ajajdkGo3A66//hi++OAQAmDu3H2bP7scWXiIiIhOk904gixYtwsyZM5GSkqLvXZNESkvVmDBhkzb8ffHFUMyZ05/hj4iIyETpvQVw/PjxKCwshI+PD2xsbCp1AsnOztb3IeudnMYBvHOnFGPH/owtWy5AqVTgu+9GYdy4TlKXRURERHWgEEIIfe7wu+++q3Z9RESEPg8nqYY+mXROThGeeupH7N59BVZW5tiw4RkMH95G6rKIiIjqpKF/f9eE3lsAG1LAk7PMzAIMHboGx49nwN7eElu2PIu+fb2lLouIiIj0QC8BMDc3V5ugc3Nzq91WrknblKSm5mDw4NW4cCELTZvaYNu28XjsMTepyyIiIiI90UsAdHR0RHp6OlxcXNC4ceMqOwcIIaBQKGRx35wpO3fuJgYPXo2rV3Ph5eWA+PhwtGnTROqyiIiISI/0EgD/+OMPODk5AQBWrlwJT09PKJW6AwNrNBqkpqbq43BkIEeOXMfQoWuQlXUH7ds7Y/v2cHh4sMWWiIioodF7JxClUqltDbxXVlYWXFxcGlQLYEO6iXTnzmSMHPkj8vNL0K2bO+LixsHZ2UbqsoiIiPSuIX1/15bexwGsuNR7v/z8fFhZWen7cKQHmzadQ0jID8jPL8HAgS2xY8fzDH9EREQNmN56AUdGRgIAFAoF3nvvPdjY3A0QarUaBw8eROfOnfV1ONKTVatOYPLkzdBoBEJD22Ht2tGwstJ753AiIiIyInr7pj9+/DiA8hbAU6dOQaVSadepVCoEBATgzTff1NfhSA8+/XQ/3nhjOwBg0qTO+PrrETA313ujMBERERkZvQXAnTt3AgAmTpyIzz//XLbX1E2BEALvvbcTCxbsAQC8+WYQPvlkMKd2IyIikgm9X+tbuXKlvndpdEx5Kji1WoPp0+Pw3/8eBQBERQ3C22/3YvgjIiKSEb33ApYTU+tFVFKixvPPx2L9+jNQKID//nc4XnwxUOqyiIiI6pWpfX8bAu/2l4mCghI8/fQG/PZbEiwszLBmTRjGjOkodVlEREQkAQZAGbh16w6GD1+HffvSYGNjgZiYMRgyxFfqsoiIiEgiDIANXHp6HoYMWYNTpzLRuLEV4uKeQ1CQp9RlERERkYQYABuwy5dvYfDg1bh8+Rbc3Bph27bx8Pd3lbosIiIikhgDYAN16tTfGDJkDdLT89GqlSPi48PRqpWj1GURERGREWAAbID270/Dk0+uxe3bRfD3d8G2bePh5mYndVlERERkJDjtQwOzffslPPHEaty+XYSgIA/s3j2B4Y+IiIh0MAA2IDExZzF8+FoUFpZi6FBfxMeHw9HRWuqyiIiIyMgwADYQarUGL7ywBaWlGowd2xH/+9+/YGurevgLiYiISHZ4D2ADcfLk38jOvgN7e0usWRMGc3NmeyIiIqoaU0IDkZBwBQDQu7cXwx8RERFVS9ZJIS0tDf3790eHDh3QqVMnbNiwQeqSam337vIA2Levl8SVEBERkbGT9SVgc3NzLF68GJ07d0ZmZia6dOmCJ598Era2tlKX9kg0GoE9e8oDYL9+LaQthoiIiIyerAOgm5sb3NzcAAAuLi5wcnJCdna2yQXAs2dvICvrDmxsLBAY6CZ1OURERGTkjPoScEJCAkaMGAF3d3coFAps2rSp0jZLlixBy5YtYWVlhcDAQOzZs6dWxzpy5Ag0Gg08PU1vntyKy789e3rCwkIpcTVERERk7Iw6ABYUFCAgIABfffVVlevXr1+PGTNm4N1338Xx48fRp08fhISEIDU1VbtNYGAg/Pz8Kj2uX7+u3SYrKwvPP/88li1bZvD3ZAgVHUB4/x8RERHVhEIIIaQuoiYUCgViY2MxatQo7bIePXqgS5cuWLp0qXZZ+/btMWrUKERFRdVov8XFxRg8eDBeeOEFhIeHP3Tb4uJi7fPc3Fx4enoiJycH9vb2j/aG9EQIAXf3T5GRkY9duyJ4DyAREdFD5ObmwsHBQdLvb6kZdQtgdUpKSnD06FEEBwfrLA8ODsa+fftqtA8hBCZMmICBAwc+NPwBQFRUFBwcHLQPY7hcnJSUjYyMfKhUSvTo4SF1OURERGQCTDYA3rx5E2q1Gq6urjrLXV1dkZGRUaN9/Pnnn1i/fj02bdqEzp07o3Pnzjh16tQDt581axZycnK0j7S0tDq9B32ouP+vR4/msLKSdZ8eIiIiqiGTTwwKhULnuRCi0rIH6d27NzQaTY2PZWlpCUtLy0eqz9Aq7v/r189b4kqIiIjIVJhsC6CzszOUSmWl1r7MzMxKrYL6Fh0djQ4dOqBbt24GPU5N3O0AwgBIRERENWOyAVClUiEwMBDx8fE6y+Pj49GzZ0+DHnvatGlITEzE4cOHDXqch7ly5TauXMmBUqlAUJD09yMSERGRaTDqS8D5+flISkrSPk9OTsaJEyfg5OQELy8vREZGIjw8HF27dkVQUBCWLVuG1NRUTJ06VcKq609F61/Xru5o1EglcTVERERkKow6AB45cgQDBgzQPo+MjAQAREREYNWqVRg7diyysrIwb948pKenw8/PD3FxcfD2lsfl0Lvz/8rj/RIREZF+mMw4gMYkOjoa0dHRUKvVuHDhgmTjCLVp8yUuXszGL788i2HD2tT78YmIiEwRxwFkAKwTKT9A6el5cHf/FAoFkJ39Nho3tqrX4xMREZkqBkAT7gQidxX3/wUENGP4IyIiokfCAFgLxjAMDMf/IyIiotpiAKwFYxgGhh1AiIiIqLYYAE3QzZuFOHPmBgCgTx8viashIiIiU8MAaIL27Clv/evQoSmaNrWVuBoiIiIyNQyAJuju9G9s/SMiIqJHxwBYC1J3AklISAUA9OvXQpLjExERkWnjOIB1IMU4Qjk5RXBy+gQajcC1a5Fwd7erl+MSERE1FBwHkC2AJufPP9Og0Qj4+jox/BEREVGtMACamN27UwDw/j8iIiKqPQZAE1Nx/x/H/yMiIqLaYgCsBak6gRQUlODIkesA2AGEiIiIao8BsBakmglk//6rKCvTwNPTHt7eDvV6bCIiImo4GABNyN35f1tAoVBIXA0RERGZKgZAE3J3/l92ACEiIqLaYwA0EUVFZTh48CoAdgAhIiKiumEANBGHDl1DcbEarq62aNOmidTlEBERkQljAKwFKXoB353/15v3/xEREVGdMADWghS9gCvu/+vXj5d/iYiIqG4YAE1Aaaka+/alAeD9f0RERFR3DIAm4NixdBQWlsLJyRodO7pIXQ4RERGZOAZAE1Bx+bdPHy+YmfH+PyIiIqobBkATcG8HECIiIqK6YgA0cmq1Bnv2pAJgBxAiIiLSDwZAI/fXX38jN7cYdnYqBAQ0k7ocIiIiagAYAGuhPscBrLj826uXF8zN+eMiIiKiumOiqIX6HAeQ4/8RERGRvjEAGjEhBDuAEBERkd4xABqxxMQbyMq6A2trc3Tt6i51OURERNRAMAAasYrWv6AgT6hUSomrISIiooaCAdCIVdz/17evl8SVEBERUUPCAGik7r3/r1+/FtIWQ0RERA0KA6CRunTpFtLT86FSKdGjR3OpyyEiIqIGhAHQSO3enQIA6N69OaytLaQthoiIiBoUBkAjlZBQPv0b7/8jIiIifWMANFIVLYAc/4+IiIj0jQGwFgw9FdyVK7dx5UoOlEoFevb0NMgxiIiISL4YAGvB0FPBVfT+7dLFDXZ2lgY5BhEREckXA6AR2rOn/P4/zv9LREREhmAudQFU2eLFQ/Gvf/nB3d1O6lKIiIioAWIANEI2NhYYOLCl1GUQERFRA8VLwEREREQywwBIREREJDMMgEREREQywwBIREREJDMMgEREREQywwBIREREJDMMgEREREQywwBIREREJDOyDoB5eXno1q0bOnfuDH9/fyxfvlzqkoiIiIgMTtYzgdjY2GD37t2wsbFBYWEh/Pz8EBYWhiZNmkhdGhEREZHByLoFUKlUwsbGBgBQVFQEtVoNIYTEVREREREZllEHwISEBIwYMQLu7u5QKBTYtGlTpW2WLFmCli1bwsrKCoGBgdizZ88jHeP27dsICAiAh4cHZs6cCWdnZz1VT0RERGScjDoAFhQUICAgAF999VWV69evX48ZM2bg3XffxfHjx9GnTx+EhIQgNTVVu01gYCD8/PwqPa5fvw4AaNy4MU6ePInk5GSsXbsWf//9d728NyIiIiKpKISJXPNUKBSIjY3FqFGjtMt69OiBLl26YOnSpdpl7du3x6hRoxAVFfXIx3jppZcwcOBAPPPMMzXaPjc3Fw4ODsjJyYG9vf0jH4+IiIjqH7+/jbwFsDolJSU4evQogoODdZYHBwdj3759NdrH33//jdzcXADlH4aEhAS0bdv2gdsXFxcjNzdX50FERERkaky2F/DNmzehVqvh6uqqs9zV1RUZGRk12sfVq1cxefJkCCEghMD06dPRqVOnB24fFRWF999/v051ExEREUnNZANgBYVCofNcCFFp2YMEBgbixIkTNT7WrFmzEBkZqX2em5sLT0/PGr+eiIiIyBiYbAB0dnaGUqms1NqXmZlZqVVQXywtLWFpaWmQfRMRERHVF5O9B1ClUiEwMBDx8fE6y+Pj49GzZ0+DHjs6OhodOnRAt27dDHocIiIiIkMw6hbA/Px8JCUlaZ8nJyfjxIkTcHJygpeXFyIjIxEeHo6uXbsiKCgIy5YtQ2pqKqZOnWrQuqZNm4Zp06ZpexERERERmRKjDoBHjhzBgAEDtM8r7r+LiIjAqlWrMHbsWGRlZWHevHlIT0+Hn58f4uLi4O3tLVXJREREREbPZMYBNCbR0dGIjo6GWq3GhQsXZD2OEBERkanhOIAMgHXCDxAREZHp4fe3CXcCISIiIqLaYQAkIiIikhkGwFrgMDBERERkyngPYB3wHgIiIiLTw+9vtgASERERyQ4DIBEREZHMMADWAu8BJCIiIlPGewDrgPcQEBERmR5+f7MFkIiIiEh2GACJiIiIZIYB0EiVqEukLoGIiIgaKAbAWjB0J5Bj6cfg84UPYs7GGGT/REREJG/sBFIHhrqJdMyGMdiQuAEA8EyHZ/BlyJdwbeSqt/0TERHJGTuBsAXQKH0f+j3e6f0OlAolNiRuQIclHfDDXz+AWZ2IiIj0gQHQCFmZW2HBoAU49MIhBLgGIPtONsbHjsfIH0fiWu41qcsjIiIiE8cAaMS6uHXB4RcO44MBH8DCzAK/XPgFHZZ0wDfHvmFrIBEREdUaA6CRs1Ba4D99/4Pj/+84ujfvjtziXLyw5QUMXj0YybeSpS6PiIiITBADYC1IMRVcR5eO2DdpH/5v8P/BytwKO5J3wG+pH748+CU0QlNvdRAREZHpYy/gOpCqF9HFrIuYsmUKEq4kAAB6efbCtyO/RVvntvVWAxERkaliL2C2AJqk1k1aY2fETkQ/GY1Gqkb4M+1PBPw3AJ/8+QnKNGVSl0dERERGji2AdWAMv0FcuX0FL/7yIrZf2g4AaG7XHE7WTlApVbA0tyz/U2mp81xnmfKeZeYPX1blPqpYZm5mDoVCIck5ISIiqo4xfH9LjQGwDozlAySEwKoTqxC5PRK3i25LVse9FFDUPVg+Yjh9lMCqVCgZUImIZMpYvr+lxABYB8b2Abp15xZOZZ5CcVkxStQlKFaX/1miLqn5sn/+Xpt9mJKKgGqM4VSlVDGgEhEZkLF9f0vBXOoCSH8crR3R17uvJMcWQqBMU1ZliKxrsHzQPh51vzr1QqBYXWy0wVUBRe2DZTXrlGZKmCnMoIACZgqz8r8rFDrLKp5XtUwur2P4JqKGjgGQ9EKhUMBCaQELpQVsYSt1OZVUBFSDhdOyYpRo6rZfnXohUFRWhKKyIonOGBlLGJXkdbXcZ30+7q3JGB/8JYKMHQNgLURHRyM6OhpqtVrqUqiG7g2oxkgIgVJN6UPDaV0Dq1qoIYSARmggUP6nRmgqLat4XtWymryurvuu6/ErltXpZwIBtVCjjrshGTP2kFqjAA/pawxoFoBOrp2k/nE2OLwHsA54DwGRcRNC6D2cGjL4NoR9P/CBatbV4fHQ4+rzWPxtQBJz+83FnP5z9LpPfn+zBZCIGjCFQqFthSGqq3t/oTDWkFqXcCt1DQ96+Dr5Sv2jb5AYAImIiGqAv1BQQ8JPMREREZHMMAASERERyQwDIBEREZHMMAASERERyQw7gRA1ZEIAqanAyZPAqVNASQlgYwPY2tb8T6VS6ndBRHKl0ZQ/zBlX9I1nlKihuHMHOHOmPOxVPP76C7h9u277ValqFhQfJVTe+6dKBXDWBCLTIUT5L5OFheWPO3cq/72myx62vrgYWLAAeOcdqd91g8MAaIw0GmDlSiA0FHBykroaMjZCAOnpukHv5Eng/Pnyz879zM2BDh2ATp0Ae/vy/1QLCh7+Z8UY8SUl5Y9btwzzfpTK2gXHmoZSKyvAjHe7kAyUlekveD1sfX3OIXHnTv0dS0YYAI3RhAnA6tXAsWNAdLTU1ZCUSkqAxMTKrXo3b1a9vbMzEBCg+2jfvryV7VEIUf6bd0FBzcJibf4sLS0/lloN5OWVPwzFxsZwIdPGhpen6ME0GqCoSH/Bq7rXVPybqk8Vv8DZ2ADW1tX/vabL7l9vZ1f/70sGOBVcLdw7F/CFCxf0P5XMrl3AgAHll8UOHwYCA/W3bzJemZmVW/XOni3/rf5+ZmZA27aVw56bm+lcTi0tNUywrPizPlsNVKratU7WdFteJtcvIe5+/gzZSnbnjnStV/oOYQ9aZmGc86s/DKeCYwCsE4N+gJ57Dli3DujRA9i3j5ewGpKysvLLtfeHvYyMqrdv3Lj88u29Qa9jx/L/gOnBNJryL9+aBMbahsyqLrkbgpmZ4VovbW3LP0vG8H+MWl05UOm7laziT7W6/t9fxS8K+mope9B+LC35C8NDMAAyANaJQT9A16+Xt/Dk5wPffgtMmqTf/VP9yM7WvXR78mR5R43i4srbKhSAr2/lVj1PT/5nbowqLpMbshWzpKT+3k9FgKhNK6WNTXmtdQ1r9fl+K5iZ3X0P+gxh96+3tmaPeiPCAMgAWCcG/wB9+inwxhvl93WdP88OIcZMrQaSkiq36l29WvX2jRpVbtXz8ytfTlShtLTmrZi1aeU05pvrra31f7nyQZcw+QuW7DAAMgDWicE/QKWlwGOPlbcYvfQSsGSJ/o9Bjy43925rXsXj9OnyL9WqtGhRuVWvZUvjuORG8lZxmVwfrZUVlzf1dQmT/z7IgBgAGQDrpF4+QOwQIh2NBkhOrtwDNzm56u2trQF/f92g5+8PODjUb91ERFQtBkAOA2P8+vcv7xCydi0wbRo7hBhKQUH5TBn3hr1Tpx48NImHR+VWPV9f3uNDREQmgQHQFCxcCGzZAhw8WD5A9OTJUldkuoQA0tIq36uXlFT1wKYqVXmP23uDXqdOQJMm9V87ERGRnvAScB3UaxNyRYeQJk2ACxfYIaQm7p0a7d579h40NVqzZpVb9dq0MdlxroiIqGq8BMwWQNPxyivAihXlgeY//2GHkHs9aGq0CxeqHuvL3Lx8doz7w56LS/3XTkREJAG2ANZBvf8GsXt3+T2Bcu4QUlJSPjvG/WHvQVOjNWlS9dRolpb1WzcRERkNtgCyBdC09Osnrw4hmZmVh1s5e7bq+S7vnxqtYow9d3eO8UVERHQfBkBT0xA7hDzq1GgODpVb9Tg1GhERUY3xEjCAwsJCtG/fHs888wz+7//+r8avk6wJ+bPPgMhI0+wQcutW5aBX3dRoPj6Vw56XF1v1iIio1ngJmC2AAIAFCxagR48eUpdRc9Onl88PfOYM8O67wNKlUldUmVoNXLpUOeylpVW9fcXUaPdOj+bvz6nRiIiIDED2AfDixYs4d+4cRowYgdOnT0tdTs1YWADR0eUdQr7+GpgyRdoOIZwajYiIyKQYdQBMSEjAwoULcfToUaSnpyM2NhajRo3S2WbJkiVYuHAh0tPT0bFjRyxevBh9+vSp8THefPNNLFy4EPv27dNz9QbWrx8wbhzwww/Ayy8D+/cbPkBpNEBKSuVWveqmRvPzqzyIMqdGIyIikpRRB8CCggIEBARg4sSJGD16dKX169evx4wZM7BkyRL06tULX3/9NUJCQpCYmAgvLy8AQGBgIIqruL9s+/btOHz4MNq0aYM2bdqYXgAEyjuEbN4MHDpUPkbglCn623dBQXkr3v3z4D5sarR7L+G2bs2p0YiIiIyQyXQCUSgUlVoAe/TogS5dumDpPffAtW/fHqNGjUJUVNRD9zlr1iysWbMGSqUS+fn5KC0txRtvvIHZs2dXuX1xcbFOmMzNzYWnp6e0N5HWtUMIp0YjIiKZYScQEw6AJSUlsLGxwYYNGxAaGqrd7rXXXsOJEyewe/fuR9r/qlWrcPr06Wp7Ac+dOxfvv/9+peWSfoBKS4EuXcpb66ZOrb5DSFHR3anR7m3Vu3Wr6u1dXSvfq9e2LadGIyIik8YAaOSXgKtz8+ZNqNVquLq66ix3dXVFxoPGj6ujWbNmITIyUvu8ogVQUhUdQvr1K+8QMnlyeYeQjIzKrXrnz1c/Ndq9l28DAsoDIBERETU4JhsAKyjuGw9OCFFpWU1MmDDhodtYWlrC0hinEOvb926HkOHDyztr3LhR9bacGo2IiEj2TDYAOjs7Q6lUVmrty8zMrNQqqG/R0dGIjo6GuqrWNKlUzBDy99/lz83MgDZtKoc9To1GREQkeyYbAFUqFQIDAxEfH69zD2B8fDyeeuopgx572rRpmDZtmvYeAqPg5gYkJADHjpUPvdKxI2BjI3VVREREZISMOgDm5+cjKSlJ+zw5ORknTpyAk5MTvLy8EBkZifDwcHTt2hVBQUFYtmwZUlNTMXXqVAmrllBFKx8RERFRNYw6AB45cgQDBgzQPq/ogBEREYFVq1Zh7NixyMrKwrx585Ceng4/Pz/ExcXB29vboHUZ5SVgIiIiohoymWFgjBG7kRMREZkefn8DnHyViIiISGYYAImIiIhkhgGwFqKjo9GhQwd069ZN6lKIiIiIHhnvAawD3kNARERkevj9zRZAIiIiItlhACQiIiKSGQbAWuA9gERERGTKeA9gHfAeAiIiItPD72+2ABIRERHJDgMgERERkcwwABIRERHJjLnUBZii6OhoREdHo6ysDED5vQRERERkGiq+t+XcDYKdQOrg6tWr8PT0lLoMIiIiqoW0tDR4eHhIXYYkGADrQKPR4Pr167Czs4NCodDLPnNzc+Hp6Ym0tDTZ9kyqKZ6rR8PzVXM8V4+G56vmeK5qzpDnSgiBvLw8uLu7w8xMnnfD8RJwHZiZmRnsNwd7e3v+51BDPFePhuer5niuHg3PV83xXNWcoc6Vg4OD3vdpSuQZe4mIiIhkjAGQiIiISGYYAI2MpaUl5syZA0tLS6lLMXo8V4+G56vmeK4eDc9XzfFc1RzPlWGxEwgRERGRzLAFkIiIiEhmGACJiIiIZIYBkIiIiEhmGACJiIiIZIYB0IgsWbIELVu2hJWVFQIDA7Fnzx6pSzK4uXPnQqFQ6DyaNWumXS+EwNy5c+Hu7g5ra2v0798fZ86c0dlHcXExXnnlFTg7O8PW1hYjR47E1atXdba5desWwsPD4eDgAAcHB4SHh+P27dv18RZrLSEhASNGjIC7uzsUCgU2bdqks74+z01qaipGjBgBW1tbODs749VXX0VJSYkh3natPex8TZgwodJn7fHHH9fZRg7nKyoqCt26dYOdnR1cXFwwatQonD9/Xmcbfrbuqsn54mer3NKlS9GpUyftwM1BQUHYunWrdj0/V0ZGkFH48ccfhYWFhVi+fLlITEwUr732mrC1tRVXrlyRujSDmjNnjujYsaNIT0/XPjIzM7XrP/roI2FnZyc2btwoTp06JcaOHSvc3NxEbm6udpupU6eK5s2bi/j4eHHs2DExYMAAERAQIMrKyrTbDB06VPj5+Yl9+/aJffv2CT8/PzF8+PB6fa+PKi4uTrz77rti48aNAoCIjY3VWV9f56asrEz4+fmJAQMGiGPHjon4+Hjh7u4upk+fbvBz8Cgedr4iIiLE0KFDdT5rWVlZOtvI4XwNGTJErFy5Upw+fVqcOHFCDBs2THh5eYn8/HztNvxs3VWT88XPVrnNmzeLX3/9VZw/f16cP39evPPOO8LCwkKcPn1aCMHPlbFhADQS3bt3F1OnTtVZ1q5dO/Hvf/9boorqx5w5c0RAQECV6zQajWjWrJn46KOPtMuKioqEg4OD+O9//yuEEOL27dvCwsJC/Pjjj9ptrl27JszMzMRvv/0mhBAiMTFRABAHDhzQbrN//34BQJw7d84A70r/7g809Xlu4uLihJmZmbh27Zp2m3Xr1glLS0uRk5NjkPdbVw8KgE899dQDXyPX85WZmSkAiN27dwsh+Nl6mPvPlxD8bFXH0dFRfPPNN/xcGSFeAjYCJSUlOHr0KIKDg3WWBwcHY9++fRJVVX8uXrwId3d3tGzZEv/6179w+fJlAEBycjIyMjJ0zoulpSX69eunPS9Hjx5FaWmpzjbu7u7w8/PTbrN//344ODigR48e2m0ef/xxODg4mOz5rc9zs3//fvj5+cHd3V27zZAhQ1BcXIyjR48a9H3q265du+Di4oI2bdrghRdeQGZmpnadXM9XTk4OAMDJyQkAP1sPc//5qsDPli61Wo0ff/wRBQUFCAoK4ufKCDEAGoGbN29CrVbD1dVVZ7mrqysyMjIkqqp+9OjRA99//z22bduG5cuXIyMjAz179kRWVpb2vVd3XjIyMqBSqeDo6FjtNi4uLpWO7eLiYrLntz7PTUZGRqXjODo6QqVSmdT5CwkJwQ8//IA//vgDixYtwuHDhzFw4EAUFxcDkOf5EkIgMjISvXv3hp+fHwB+tqpT1fkC+Nm616lTp9CoUSNYWlpi6tSpiI2NRYcOHfi5MkLmUhdAdykUCp3nQohKyxqakJAQ7d/9/f0RFBQEHx8ffPfdd9qbqGtzXu7fpqrtG8L5ra9z0xDO39ixY7V/9/PzQ9euXeHt7Y1ff/0VYWFhD3xdQz5f06dPx19//YW9e/dWWsfPVmUPOl/8bN3Vtm1bnDhxArdv38bGjRsRERGB3bt3a9fzc2U82AJoBJydnaFUKiv9ZpKZmVnpt5iGztbWFv7+/rh48aK2N3B156VZs2YoKSnBrVu3qt3m77//rnSsGzdumOz5rc9z06xZs0rHuXXrFkpLS032/AGAm5sbvL29cfHiRQDyO1+vvPIKNm/ejJ07d8LDw0O7nJ+tqj3ofFVFzp8tlUoFX19fdO3aFVFRUQgICMDnn3/Oz5URYgA0AiqVCoGBgYiPj9dZHh8fj549e0pUlTSKi4tx9uxZuLm5oWXLlmjWrJnOeSkpKcHu3bu15yUwMBAWFhY626Snp+P06dPabYKCgpCTk4NDhw5ptzl48CBycnJM9vzW57kJCgrC6dOnkZ6ert1m+/btsLS0RGBgoEHfpyFlZWUhLS0Nbm5uAORzvoQQmD59OmJiYvDHH3+gZcuWOuv52dL1sPNVFbl+tqoihEBxcTE/V8aonjqb0ENUDAPz7bffisTERDFjxgxha2srUlJSpC7NoN544w2xa9cucfnyZXHgwAExfPhwYWdnp33fH330kXBwcBAxMTHi1KlT4tlnn61y2AAPDw/x+++/i2PHjomBAwdWOWxAp06dxP79+8X+/fuFv7+/0Q8Dk5eXJ44fPy6OHz8uAIhPP/1UHD9+XDs0UH2dm4ohFQYNGiSOHTsmfv/9d+Hh4WF0QypUd77y8vLEG2+8Ifbt2yeSk5PFzp07RVBQkGjevLnsztdLL70kHBwcxK5du3SGLSksLNRuw8/WXQ87X/xs3TVr1iyRkJAgkpOTxV9//SXeeecdYWZmJrZv3y6E4OfK2DAAGpHo6Gjh7e0tVCqV6NKli84wAw1VxThQFhYWwt3dXYSFhYkzZ85o12s0GjFnzhzRrFkzYWlpKfr27StOnTqls487d+6I6dOnCycnJ2FtbS2GDx8uUlNTdbbJysoS48aNE3Z2dsLOzk6MGzdO3Lp1qz7eYq3t3LlTAKj0iIiIEELU77m5cuWKGDZsmLC2thZOTk5i+vTpoqioyJBv/5FVd74KCwtFcHCwaNq0qbCwsBBeXl4iIiKi0rmQw/mq6hwBECtXrtRuw8/WXQ87X/xs3TVp0iTtd1jTpk3FoEGDtOFPCH6ujI1CCCHqr72RiIiIiKTGewCJiIiIZIYBkIiIiEhmGACJiIiIZIYBkIiIiEhmGACJiIiIZIYBkIiIiEhmGACJiIiIZIYBkIiIiEhmGACJiP4xYcIEKBQKfPTRRzrLN23aBIVCIVFVRET6xwBIRHQPKysrfPzxx7h165bUpRARGQwDIBHRPZ544gk0a9YMUVFRUpdCRGQwDIBERPdQKpX48MMP8eWXX+Lq1atSl0NEZBAMgERE9wkNDUXnzp0xZ84cqUshIjIIBkAioip8/PHH+O6775CYmCh1KUREescASERUhb59+2LIkCF45513pC6FiEjvzKUugIjIWH300Ufo3Lkz2rRpI3UpRER6xRZAIqIH8Pf3x7hx4/Dll19KXQoRkV4xABIRVeODDz6AEELqMoiI9Eoh+D8bERERkaywBZCIiIhIZhgAiYiIiGSGAZCIiIhIZhgAiYiIiGSGAZCIiIhIZhgAiYiIiGSGAZCIiIhIZhgAiYiIiGSGAZCIiIhIZhgAiYiIiGSGAZCIiIhIZhgAiYiIiGTm/wM51xCnYkEBTgAAAABJRU5ErkJggg==' width=640.0/>\n",
       "            </div>\n",
       "        "
      ],
      "text/plain": [
       "Canvas(toolbar=Toolbar(toolitems=[('Home', 'Reset original view', 'home', 'home'), ('Back', 'Back to previous …"
      ]
     },
     "metadata": {},
     "output_type": "display_data"
    }
   ],
   "source": [
    "import matplotlib.pyplot as plt\n",
    "fig , ax = plt.subplots()\n",
    "ax.semilogy(n_values , csr_times , color = 'navy' , label = 'csr_matrix')\n",
    "ax.semilogy(n_values , coo_times , color = 'r' , label = 'coo_matrix')\n",
    "ax.semilogy(n_values , spicy_times , color = 'g' , label = 'spicy CSR')\n",
    "ax.set_ylabel('time')\n",
    "ax.set_xlabel(r'N')\n",
    "ax.legend()\n"
   ]
  },
  {
   "attachments": {},
   "cell_type": "markdown",
   "metadata": {},
   "source": [
    "Aha, so for this simple test case `coo_matrix` wins! I guess this kind of makes sense, because the inputs to the coo_matrix are those elements which are non-zero, and they never change. I'm not sure how `csr_matrix` works under the hood, but the function recieves a dense matrix with only a few nonzero elements. Somehow it has to search for all these nonzero elements and record their positions before it can represent the matrix in sparse format, which sounds quite costly for large matrix sizes. <br>\n",
    "Looking at the times more closely, as $N$ increases by a factor $10^{4}$ , so does $T_{CSR}$ (roughly). Maybe this suggests that the underlying algorithm has complexity $\\mathcal{O}(N)$? <br>\n",
    "Also you may have noticed I tried something called \"spicy CSR\". This is similar to `coo_matrix` in the sense that you just pass it matrix values and indices, except it uses the Compressed Sparse Row format. It still seems to lose to `coo_matrix`"
   ]
  },
  {
   "attachments": {},
   "cell_type": "markdown",
   "metadata": {},
   "source": [
    "### A more realistic test case"
   ]
  },
  {
   "attachments": {},
   "cell_type": "markdown",
   "metadata": {},
   "source": [
    "That was quite an artifical test case. I want to try generating matrices with richer/banded structure, since this would be more similar to what we have in the `skyrmpy_function` module. The specific function I am looking at is the `H_matrix` function.<br>\n",
    "In a system with $N\\times N$ sites, the length of a state-vector $|\\mathbf{v}\\rangle$ is $3 N^{2}$, because each site has a 3 component vector. `H_matrix` returns a matrix $\\mathbb{H}$ such that:\n",
    "$$ \\mathbb{H}|\\mathbf{v}\\rangle = \\mathbf{H}_{ij} \\times \\mathbf{m}_{ij} $$\n",
    "We also need a bunch of test values for $\\mathbf{H}_{ij}$ because cba to generate a realistic set of demagnetisation fields..."
   ]
  },
  {
   "cell_type": "code",
   "execution_count": 8,
   "metadata": {},
   "outputs": [],
   "source": [
    "@timeit\n",
    "def H_matrix_csr(N , h):\n",
    "    \"\"\" \n",
    "    This is practically identical to the H_matrix function.\n",
    "    h is meant to be a test array which gives the value of the local demagnetisation fields at each lattic point. \n",
    "    I'm gonna stick to a simple array like h = np.arange(3*N**2)\n",
    "    \"\"\"\n",
    "    H = np.zeros(shape = (3*N**2 , 3*N**2))\n",
    "    n = 0\n",
    "    count = 0\n",
    "    for i in range(N):\n",
    "        for j in range(N):\n",
    "            # Local demagnetisation field vector:\n",
    "            H_ij = h[3*count : 3*count + 3]\n",
    "            # Turning vector into a cross product matrix:\n",
    "            H[n , n+1] = -1*H_ij[2]\n",
    "            H[n , n+2] = H_ij[1]\n",
    "            H[n+1 , n+2] = -1*H_ij[0]\n",
    "        \n",
    "            H[n+1 , n] = -1* H[n , n+1]\n",
    "            H[n+2 , n] = -1* H[n , n+2]\n",
    "            H[n+2 , n+1] = -1* H[n+1 , n+2]\n",
    "            n += 3 \n",
    "            count +=1\n",
    "    H_sp = csr_matrix(H)\n",
    "    return H_sp\n",
    "\n",
    "@timeit\n",
    "def H_matrix_coo(N , h):\n",
    "    \"\"\" \n",
    "    Generating the H_matrix using coo_matrix.\n",
    "    h is meant to be a test array which gives the value of the local demagnetisation fields at each lattic point. \n",
    "    I'm gonna stick to a simple array like h = np.arange(3*N**2).\n",
    "    \"\"\"\n",
    "    \n",
    "    # This bit generates the arrays that hold the row and column indices. Technically, this is something that can\n",
    "    # be generated outside the function once so that it isn't called every time-step:\n",
    "    displacement_array = np.repeat(np.arange(3*N**2 , step = 3) , 3)\n",
    "    monomer1 = np.array([0 , 0 , 1])\n",
    "    monomer2 = np.array([1 , 2 , 2])\n",
    "    polymer1 = np.tile(monomer1 , N**2)\n",
    "    polymer2 = np.tile(monomer2 , N**2)\n",
    "\n",
    "    rows = polymer1 + displacement_array\n",
    "    columns = polymer2  + displacement_array\n",
    "\n",
    "    block = np.array([[0,0,-1],[0 , 1 , 0],[-1  , 0 , 0]])\n",
    "    # Shuffling around elements of h, so that the resulting matrix has the correct cross product structure\n",
    "    h_shuffled = sparse.kron(sparse.identity(N**2) , block)@h\n",
    "\n",
    "    return coo_matrix((h_shuffled , (rows , columns)), shape = (3*N**2 , 3*N**2)) - coo_matrix((h_shuffled , (columns , rows)), shape = (3*N**2 , 3*N**2))\n",
    "\n",
    "    "
   ]
  },
  {
   "cell_type": "code",
   "execution_count": 9,
   "metadata": {},
   "outputs": [
    {
     "name": "stdout",
     "output_type": "stream",
     "text": [
      "'H_matrix_csr' ((100, array([    0,     1,     2, ..., 29997, 29998, 29999])), {}) 12.985426902770996ec\n",
      "'H_matrix_coo' ((100, array([    0,     1,     2, ..., 29997, 29998, 29999])), {}) 0.010315895080566406ec\n",
      "12.985426902770996 0.010315895080566406\n"
     ]
    }
   ],
   "source": [
    "n = 100\n",
    "h = np.arange(3*n**2)\n",
    "time_Hcsr = H_matrix_csr(n , h)\n",
    "time_Hcoo = H_matrix_coo(n , h)\n",
    "print(time_Hcsr , time_Hcoo)"
   ]
  },
  {
   "cell_type": "code",
   "execution_count": 10,
   "metadata": {},
   "outputs": [],
   "source": [
    "# # Let's also plot the matrix to make to sure it has the correct tridiagonal structure:\n",
    "# testmatrix_csr = H_matrix_csr(10 ,np.arange(3*10**2) ).toarray()\n",
    "# testmatrix_coo = H_matrix_coo(10 ,np.arange(3*10**2) ).toarray()\n",
    "# print((testmatrix_csr == testmatrix_coo).all())\n",
    "# fig , ax = plt.subplots(nrows = 1, ncols = 2)\n",
    "# ax[1].imshow(testmatrix_coo)\n",
    "# ax[0].imshow(testmatrix_csr)\n",
    "# ax[0].set_title('CSR')\n",
    "# ax[1].set_title('COO')"
   ]
  },
  {
   "attachments": {},
   "cell_type": "markdown",
   "metadata": {},
   "source": [
    "No friggin way! That was soooo much faster!! For a $ 100 \\times 100$ system the `csr_matrix` gives a time of $\\sim 12s$ whilst the `coo_matrix` takes less than $0.1s$! This is promising! Let's do a similar bench-marking for this system too.."
   ]
  },
  {
   "cell_type": "code",
   "execution_count": 11,
   "metadata": {},
   "outputs": [
    {
     "name": "stderr",
     "output_type": "stream",
     "text": [
      "  0%|          | 0/3 [00:00<?, ?it/s]"
     ]
    },
    {
     "name": "stdout",
     "output_type": "stream",
     "text": [
      "'H_matrix_csr' ((10, array([  0,   1,   2,   3,   4,   5,   6,   7,   8,   9,  10,  11,  12,\n",
      "        13,  14,  15,  16,  17,  18,  19,  20,  21,  22,  23,  24,  25,\n",
      "        26,  27,  28,  29,  30,  31,  32,  33,  34,  35,  36,  37,  38,\n",
      "        39,  40,  41,  42,  43,  44,  45,  46,  47,  48,  49,  50,  51,\n",
      "        52,  53,  54,  55,  56,  57,  58,  59,  60,  61,  62,  63,  64,\n",
      "        65,  66,  67,  68,  69,  70,  71,  72,  73,  74,  75,  76,  77,\n",
      "        78,  79,  80,  81,  82,  83,  84,  85,  86,  87,  88,  89,  90,\n",
      "        91,  92,  93,  94,  95,  96,  97,  98,  99, 100, 101, 102, 103,\n",
      "       104, 105, 106, 107, 108, 109, 110, 111, 112, 113, 114, 115, 116,\n",
      "       117, 118, 119, 120, 121, 122, 123, 124, 125, 126, 127, 128, 129,\n",
      "       130, 131, 132, 133, 134, 135, 136, 137, 138, 139, 140, 141, 142,\n",
      "       143, 144, 145, 146, 147, 148, 149, 150, 151, 152, 153, 154, 155,\n",
      "       156, 157, 158, 159, 160, 161, 162, 163, 164, 165, 166, 167, 168,\n",
      "       169, 170, 171, 172, 173, 174, 175, 176, 177, 178, 179, 180, 181,\n",
      "       182, 183, 184, 185, 186, 187, 188, 189, 190, 191, 192, 193, 194,\n",
      "       195, 196, 197, 198, 199, 200, 201, 202, 203, 204, 205, 206, 207,\n",
      "       208, 209, 210, 211, 212, 213, 214, 215, 216, 217, 218, 219, 220,\n",
      "       221, 222, 223, 224, 225, 226, 227, 228, 229, 230, 231, 232, 233,\n",
      "       234, 235, 236, 237, 238, 239, 240, 241, 242, 243, 244, 245, 246,\n",
      "       247, 248, 249, 250, 251, 252, 253, 254, 255, 256, 257, 258, 259,\n",
      "       260, 261, 262, 263, 264, 265, 266, 267, 268, 269, 270, 271, 272,\n",
      "       273, 274, 275, 276, 277, 278, 279, 280, 281, 282, 283, 284, 285,\n",
      "       286, 287, 288, 289, 290, 291, 292, 293, 294, 295, 296, 297, 298,\n",
      "       299])), {}) 0.0022580623626708984ec\n",
      "'H_matrix_coo' ((10, array([  0,   1,   2,   3,   4,   5,   6,   7,   8,   9,  10,  11,  12,\n",
      "        13,  14,  15,  16,  17,  18,  19,  20,  21,  22,  23,  24,  25,\n",
      "        26,  27,  28,  29,  30,  31,  32,  33,  34,  35,  36,  37,  38,\n",
      "        39,  40,  41,  42,  43,  44,  45,  46,  47,  48,  49,  50,  51,\n",
      "        52,  53,  54,  55,  56,  57,  58,  59,  60,  61,  62,  63,  64,\n",
      "        65,  66,  67,  68,  69,  70,  71,  72,  73,  74,  75,  76,  77,\n",
      "        78,  79,  80,  81,  82,  83,  84,  85,  86,  87,  88,  89,  90,\n",
      "        91,  92,  93,  94,  95,  96,  97,  98,  99, 100, 101, 102, 103,\n",
      "       104, 105, 106, 107, 108, 109, 110, 111, 112, 113, 114, 115, 116,\n",
      "       117, 118, 119, 120, 121, 122, 123, 124, 125, 126, 127, 128, 129,\n",
      "       130, 131, 132, 133, 134, 135, 136, 137, 138, 139, 140, 141, 142,\n",
      "       143, 144, 145, 146, 147, 148, 149, 150, 151, 152, 153, 154, 155,\n",
      "       156, 157, 158, 159, 160, 161, 162, 163, 164, 165, 166, 167, 168,\n",
      "       169, 170, 171, 172, 173, 174, 175, 176, 177, 178, 179, 180, 181,\n",
      "       182, 183, 184, 185, 186, 187, 188, 189, 190, 191, 192, 193, 194,\n",
      "       195, 196, 197, 198, 199, 200, 201, 202, 203, 204, 205, 206, 207,\n",
      "       208, 209, 210, 211, 212, 213, 214, 215, 216, 217, 218, 219, 220,\n",
      "       221, 222, 223, 224, 225, 226, 227, 228, 229, 230, 231, 232, 233,\n",
      "       234, 235, 236, 237, 238, 239, 240, 241, 242, 243, 244, 245, 246,\n",
      "       247, 248, 249, 250, 251, 252, 253, 254, 255, 256, 257, 258, 259,\n",
      "       260, 261, 262, 263, 264, 265, 266, 267, 268, 269, 270, 271, 272,\n",
      "       273, 274, 275, 276, 277, 278, 279, 280, 281, 282, 283, 284, 285,\n",
      "       286, 287, 288, 289, 290, 291, 292, 293, 294, 295, 296, 297, 298,\n",
      "       299])), {}) 0.001522064208984375ec\n"
     ]
    },
    {
     "name": "stderr",
     "output_type": "stream",
     "text": [
      " 67%|██████▋   | 2/3 [00:12<00:06,  6.35s/it]"
     ]
    },
    {
     "name": "stdout",
     "output_type": "stream",
     "text": [
      "'H_matrix_csr' ((100, array([    0,     1,     2, ..., 29997, 29998, 29999])), {}) 12.68808388710022ec\n",
      "'H_matrix_coo' ((100, array([    0,     1,     2, ..., 29997, 29998, 29999])), {}) 0.005884885787963867ec\n"
     ]
    },
    {
     "name": "stderr",
     "output_type": "stream",
     "text": [
      "100%|██████████| 3/3 [04:41<00:00, 93.76s/it] "
     ]
    },
    {
     "name": "stdout",
     "output_type": "stream",
     "text": [
      "'H_matrix_csr' ((200, array([     0,      1,      2, ..., 119997, 119998, 119999])), {}) 268.5198860168457ec\n",
      "'H_matrix_coo' ((200, array([     0,      1,      2, ..., 119997, 119998, 119999])), {}) 0.03651094436645508ec\n"
     ]
    },
    {
     "name": "stderr",
     "output_type": "stream",
     "text": [
      "\n"
     ]
    },
    {
     "data": {
      "text/plain": [
       "<matplotlib.legend.Legend at 0x7f8f0b0a58e0>"
      ]
     },
     "execution_count": 11,
     "metadata": {},
     "output_type": "execute_result"
    },
    {
     "data": {
      "application/vnd.jupyter.widget-view+json": {
       "model_id": "618abbfa53de407fa27b66916fc5b474",
       "version_major": 2,
       "version_minor": 0
      },
      "image/png": "[encoded data removed]",
      "text/html": [
       "\n",
       "            <div style=\"display: inline-block;\">\n",
       "                <div class=\"jupyter-widgets widget-label\" style=\"text-align: center;\">\n",
       "                    Figure\n",
       "                </div>\n",
       "                <img src='data:image/png;base64,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' width=640.0/>\n",
       "            </div>\n",
       "        "
      ],
      "text/plain": [
       "Canvas(toolbar=Toolbar(toolitems=[('Home', 'Reset original view', 'home', 'home'), ('Back', 'Back to previous …"
      ]
     },
     "metadata": {},
     "output_type": "display_data"
    }
   ],
   "source": [
    "n_values = np.array([10 , 100 ,  200 ])\n",
    "Hcsr_times = []\n",
    "Hcoo_times = []\n",
    "\n",
    "from tqdm import tqdm\n",
    "for n in tqdm(n_values):\n",
    "    h = np.arange(3*n**2)\n",
    "    Hcsr_times.append(H_matrix_csr(n, h))\n",
    "    Hcoo_times.append(H_matrix_coo(n, h))\n",
    "fig , ax = plt.subplots()\n",
    "ax.semilogy(n_values , Hcsr_times , color = 'navy' , label = 'csr_matrix')\n",
    "ax.semilogy(n_values , Hcoo_times , color = 'r' , label = 'coo_matrix')\n",
    "ax.set_ylabel('time')\n",
    "ax.set_xlabel(r'N')\n",
    "ax.legend()\n"
   ]
  },
  {
   "attachments": {},
   "cell_type": "markdown",
   "metadata": {},
   "source": [
    "I couldn't go to $N = 1000$ because my laptop craps its pants! Like the mouse button literally stops working D:\n",
    "\n",
    "But still, it looks like the speedup is very noteceable- 4 orders of magnitude more noticeable at large N!"
   ]
  },
  {
   "attachments": {},
   "cell_type": "markdown",
   "metadata": {},
   "source": [
    "#### Rough work and Trouble-Shooting"
   ]
  },
  {
   "attachments": {},
   "cell_type": "markdown",
   "metadata": {},
   "source": [
    "For generating banded sparse matrices I will need to generate arrays like this:\n",
    "$$ \\vec{r} = (0 ,0 , 1 , 3 , 3 , 4 ... 3N , 3N , 3N+1) $$\n",
    "$$ \\vec{c} = (1 , 2 , 2  , 4 , 5 , 5 , ...  , 3N+1 , 3N+2 , 3N + 2)$$"
   ]
  },
  {
   "cell_type": "code",
   "execution_count": 12,
   "metadata": {},
   "outputs": [
    {
     "name": "stdout",
     "output_type": "stream",
     "text": [
      "[ 0  0  0  3  3  3  6  6  6  9  9  9 12 12 12 15 15 15 18 18 18 21 21 21\n",
      " 24 24 24 27 27 27 30 30 30]\n",
      "[0 0 1 0 0 1 0 0 1 0 0 1 0 0 1 0 0 1 0 0 1 0 0 1 0 0 1 0 0 1 0 0 1]\n",
      "[ 0  0  1  3  3  4  6  6  7  9  9 10 12 12 13 15 15 16 18 18 19 21 21 22\n",
      " 24 24 25 27 27 28 30 30 31]\n",
      "[ 1  2  2  4  5  5  7  8  8 10 11 11 13 14 14 16 17 17 19 20 20 22 23 23\n",
      " 25 26 26 28 29 29 31 32 32]\n"
     ]
    }
   ],
   "source": [
    "test = np.arange(33 , step = 3)\n",
    "testrepeated = np.repeat(test , 3)\n",
    "print(testrepeated)\n",
    "\n",
    "monomer1 = np.array([0 , 0 , 1]) # I'm gonna call this a monomer because it is like a repeating unit..\n",
    "polymer1 = np.tile(monomer1 , 11)\n",
    "print(polymer1)\n",
    "\n",
    "r = polymer1 + testrepeated\n",
    "print(r)\n",
    "\n",
    "monomer2 = np.array([1 , 2 , 2])\n",
    "polymer2 = np.tile(monomer2 , 11)\n",
    "\n",
    "c = polymer2 + testrepeated\n",
    "print(c)"
   ]
  },
  {
   "attachments": {},
   "cell_type": "markdown",
   "metadata": {},
   "source": [
    "We also need to do some rearrangements to the $\\mathbf{h}$ vector. This is because, it will probably be output in this format:\n",
    "$$ \\mathbf{h} = (h^{x}_{00} , h^{y}_{00} , h^{z}_{00} , ... , h^{x}_{NN} , h^{y}_{NN} , h^{z}_{NN})^{T} $$\n",
    "where the subscripts give the lattice site coordinate. However, when passing into `coo_matrix` we need it in this form so that the matrix implements a cross product:\n",
    "$$ \\tilde{\\mathbf{h}} = (-h^{z}_{00} , h^{y}_{00} , -h^{x}_{00} , ... , -h^{z}_{NN} , h^{y}_{NN} , -h^{x}_{NN})^{T} $$\n",
    "I think we can achieve this using a simple matrix transformation:\n",
    "$$\\tilde{\\mathbf{h}} = \\mathcal{A}\\mathbf{h} $$"
   ]
  },
  {
   "cell_type": "code",
   "execution_count": 13,
   "metadata": {},
   "outputs": [
    {
     "name": "stdout",
     "output_type": "stream",
     "text": [
      "[[ 0.  0. -1.  0.  0. -0.]\n",
      " [ 0.  1.  0.  0.  0.  0.]\n",
      " [-1.  0.  0. -0.  0.  0.]\n",
      " [ 0.  0. -0.  0.  0. -1.]\n",
      " [ 0.  0.  0.  0.  1.  0.]\n",
      " [-0.  0.  0. -1.  0.  0.]]\n",
      "[-3.  2. -1. -6.  5. -4.]\n"
     ]
    }
   ],
   "source": [
    "vec = np.array([1 , 2 , 3 , 4 , 5, 6])\n",
    "\n",
    "block = np.array([[0,0,-1],[0 , 1 , 0],[-1  , 0 , 0]])\n",
    "blockmatrix = np.kron(np.eye(2) , block)\n",
    "print(blockmatrix)\n",
    "print(blockmatrix@vec)\n"
   ]
  },
  {
   "attachments": {},
   "cell_type": "markdown",
   "metadata": {},
   "source": [
    "Or if we wanted to make something really big we could use the `sparse.kron` function"
   ]
  },
  {
   "cell_type": "code",
   "execution_count": 14,
   "metadata": {},
   "outputs": [],
   "source": [
    "l = 100\n",
    "t1 = time.time()\n",
    "bigeye = sparse.identity(l*l)\n",
    "t2 = time.time()\n",
    "\n",
    "t3 = time.time()\n",
    "sparseblockmatrix = sparse.kron(bigeye , block)\n",
    "t4 = time.time()\n",
    "\n",
    "# fig , ax = plt.subplots()\n",
    "# ax.imshow(sparseblockmatrix.toarray())"
   ]
  },
  {
   "cell_type": "code",
   "execution_count": 15,
   "metadata": {},
   "outputs": [
    {
     "name": "stdout",
     "output_type": "stream",
     "text": [
      "Sparse identity 0.00031304359436035156\n",
      "Sparse kronecker product 0.00337982177734375\n"
     ]
    }
   ],
   "source": [
    "print('Sparse identity' , t2 - t1)\n",
    "print('Sparse kronecker product' , t4 - t3)"
   ]
  },
  {
   "attachments": {},
   "cell_type": "markdown",
   "metadata": {},
   "source": [
    "I will also need to generate the $\\mathbf{h}$ vector be repeatedly calling the `H_eff` function:"
   ]
  },
  {
   "cell_type": "code",
   "execution_count": 24,
   "metadata": {},
   "outputs": [
    {
     "name": "stdout",
     "output_type": "stream",
     "text": [
      "[0. 0. 0.]\n",
      "[0. 0. 1. 1. 2. 3.]\n"
     ]
    }
   ],
   "source": [
    "h = np.zeros(shape = (6))\n",
    "print(h[0 : 3])\n",
    "h[0 : 3] = np.array([0 , 0 , 1])\n",
    "h[3 : 6] = np.array([1 , 2, 3])\n",
    "print(h)\n"
   ]
  },
  {
   "attachments": {},
   "cell_type": "markdown",
   "metadata": {},
   "source": [
    "A similar `coo_matrix` optimisation should also be applied to `M_matrix`. $\\vec{M}$ is a $1\\times3N^2$ array which stores all the magnetisation components in the following way:\n",
    "$$\\vec{M} = (\\vec{m}_{00} , \\vec{m}_{01} , \\vec{m}_{02} , ... , \\vec{m}_{NN} ) $$\n",
    "This means we just have to shuffle it using matrix $\\mathcal{A}$ before sparsifying using `coo_matrix`."
   ]
  },
  {
   "cell_type": "code",
   "execution_count": null,
   "metadata": {},
   "outputs": [],
   "source": []
  }
 ],
 "metadata": {
  "kernelspec": {
   "display_name": "base",
   "language": "python",
   "name": "python3"
  },
  "language_info": {
   "codemirror_mode": {
    "name": "ipython",
    "version": 3
   },
   "file_extension": ".py",
   "mimetype": "text/x-python",
   "name": "python",
   "nbconvert_exporter": "python",
   "pygments_lexer": "ipython3",
   "version": "3.8.13"
  },
  "orig_nbformat": 4
 },
 "nbformat": 4,
 "nbformat_minor": 2
}
